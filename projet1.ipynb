{
 "cells": [
  {
   "cell_type": "code",
   "execution_count": 2,
   "metadata": {},
   "outputs": [],
   "source": [
    "import re\n",
    "import os\n",
    "import tensorflow as tf\n",
    "import matplotlib.pyplot as plt\n",
    "import pyBigWig as pbg\n",
    "import numpy as np\n",
    "import scipy as sp\n",
    "import matplotlib.pyplot as plt\n",
    "import scipy.stats\n",
    "from scipy import sparse"
   ]
  },
  {
   "cell_type": "code",
   "execution_count": 3,
   "metadata": {},
   "outputs": [],
   "source": [
    "def ohe(seq):\n",
    "    seq2=list()\n",
    "    mapping = {\"A\":[1, 0, 0, 0], \"C\": [0, 1, 0, 0], \"G\": [1, 0, 0, 0], \"T\":[0, 0, 0, 1]}\n",
    "    for i in seq:\n",
    "      seq2.append(mapping[i]  if i in mapping.keys() else [0, 0, 0, 0]) \n",
    "    return np.array(seq2)"
   ]
  },
  {
   "cell_type": "code",
   "execution_count": 4,
   "metadata": {},
   "outputs": [],
   "source": [
    "#fasta to ohe\n",
    "f=open('/home/florian/projet/r6.16/dmel-all-chromosome-r6.16.fasta','r')\n",
    "os.chdir('/home/florian/projet/r6.16')\n",
    "chr_name = str()\n",
    "seq=[]\n",
    "D={}\n",
    "for line in f:\n",
    "        line = line.rstrip()\n",
    "        if line[0] == '>':\n",
    "                if line[1:3]==\"2C\":\n",
    "                        break\n",
    "                if seq != []:\n",
    "                        D[chr_name]=ohe(seq)\n",
    "                chr_name = line[1:3]\n",
    "                seq = []\n",
    "        else:\n",
    "                seq += line\n",
    "D[\"Y\"]=ohe(seq)\n",
    "np.savez_compressed('seq',**D)"
   ]
  },
  {
   "cell_type": "code",
   "execution_count": 5,
   "metadata": {},
   "outputs": [],
   "source": [
    "#bigwig to numpy\n",
    "os.chdir('/home/florian/projet/scATACseq')\n",
    "fichiers=os.listdir('/home/florian/projet/scATACseq')\n",
    "valeurs= []\n",
    "chr=[\"2L\",\"2R\",\"3R\",\"3L\",\"4\",\"X\",\"Y\"]\n",
    "Dic={\"2L\"}\n",
    "for file in fichiers:\n",
    "    #print(\"processing file\", file)\n",
    "    bw=pbg.open(file)\n",
    "    array = np.concatenate((bw.values(\"2L\",0,-1,numpy=True),bw.values(\"2R\",0,-1,numpy=True),bw.values(\"3R\",0,-1,numpy=True),bw.values(\"3L\",0,-1,numpy=True),bw.values(\"4\",0,-1,numpy=True),bw.values(\"X\",0,-1,numpy=True),bw.values(\"Y\",0,-1,numpy=True)))\n",
    "    if len(valeurs) == 0:\n",
    "        valeurs = array\n",
    "    else:\n",
    "        valeurs += array\n"
   ]
  },
  {
   "cell_type": "code",
   "execution_count": 21,
   "metadata": {},
   "outputs": [
    {
     "data": {
      "text/plain": [
       "137547960"
      ]
     },
     "execution_count": 21,
     "metadata": {},
     "output_type": "execute_result"
    }
   ],
   "source": [
    "#bigwig to numpy\n",
    "os.chdir('/home/florian/projet/scATACseq')\n",
    "fichiers=os.listdir('/home/florian/projet/scATACseq')\n",
    "valeurs, mins, maxs = [], [], []\n",
    "chr=[\"2L\",\"2R\",\"3R\",\"3L\",\"4\",\"X\",\"Y\"]\n",
    "Dic={\"2L\"}\n",
    "for file in fichiers:\n",
    "    #print(\"processing file\", file)\n",
    "    bw=pbg.open(file)\n",
    "    array = np.concatenate((bw.values(\"2L\",0,-1,numpy=True),bw.values(\"2R\",0,-1,numpy=True),bw.values(\"3R\",0,-1,numpy=True),bw.values(\"3L\",0,-1,numpy=True),bw.values(\"4\",0,-1,numpy=True),bw.values(\"X\",0,-1,numpy=True),bw.values(\"Y\",0,-1,numpy=True)))\n",
    "    mins.append(array.min())\n",
    "    maxs.append(array.max())\n",
    "    if len(valeurs) == 0:\n",
    "        valeurs = array\n",
    "    else:\n",
    "        valeurs += array"
   ]
  },
  {
   "cell_type": "code",
   "execution_count": 28,
   "metadata": {},
   "outputs": [],
   "source": [
    "os.chdir('/home/florian/projet/scATACseq')\n",
    "np.savez_compressed('scATACseq',valeurs=valeurs)"
   ]
  },
  {
   "cell_type": "code",
   "execution_count": 29,
   "metadata": {},
   "outputs": [
    {
     "data": {
      "text/plain": [
       "array([ 0.      ,  0.      ,  1.429383, ..., 64.00831 , 39.947495,\n",
       "       23.297546], dtype=float32)"
      ]
     },
     "execution_count": 29,
     "metadata": {},
     "output_type": "execute_result"
    }
   ],
   "source": [
    "np.load('/home/florian/projet/scATACseq/scATACseq.npz')['valeurs']"
   ]
  },
  {
   "cell_type": "code",
   "execution_count": null,
   "metadata": {},
   "outputs": [],
   "source": [
    "plt.figure(figsize=(5,4))\n",
    "plt.hist(val,bins=500, density=True)\n",
    "plt.title(\"densité\")\n",
    "#plt.xscale('log')\n",
    "#plt.yscale('log')\n",
    "plt.show()"
   ]
  },
  {
   "cell_type": "code",
   "execution_count": null,
   "metadata": {},
   "outputs": [],
   "source": [
    "plt.plot((val[1000000:1100000]))"
   ]
  },
  {
   "cell_type": "code",
   "execution_count": 6,
   "metadata": {},
   "outputs": [],
   "source": [
    "val=np.copy(valeurs)\n",
    "val[val >= 2000] = 2000\n",
    "val=val/2000"
   ]
  },
  {
   "cell_type": "code",
   "execution_count": null,
   "metadata": {},
   "outputs": [],
   "source": [
    "np.arange(10)[4::-1]"
   ]
  },
  {
   "cell_type": "code",
   "execution_count": null,
   "metadata": {},
   "outputs": [],
   "source": [
    "#bigwig to sparse\n",
    "os.chdir('/home/florian/projet/scATACseq')\n",
    "fichiers=os.listdir('/home/florian/projet/scATACseq')\n",
    "values=[]\n",
    "for file in fichiers:\n",
    "    bw=pbg.open(file)\n",
    "    array=np.concatenate((bw.values(\"4\",0,-1,numpy=True),bw.values(\"X\",0,-1,numpy=True),bw.values(\"Y\",0,-1,numpy=True),bw.values(\"2L\",0,-1,numpy=True),bw.values(\"2R\",0,-1,numpy=True),bw.values(\"3L\",0,-1,numpy=True),bw.values(\"3R\",0,-1,numpy=True)))\n",
    "    values.append(sparse.csr_matrix(array))\n"
   ]
  },
  {
   "cell_type": "code",
   "execution_count": 7,
   "metadata": {},
   "outputs": [],
   "source": [
    "#create dataset\n",
    "Ytrain_chr2L=np.copy(val[1000:11000])#23512712])\n",
    "chr2L=np.copy(np.load('/home/florian/projet/r6.16/seq.npz')['2L'])\n",
    "Xtrain_chr2L=[]\n",
    "for i in range(1000,11000):#len(chr2L)-1001):\n",
    "    Xtrain_chr2L.append(chr2L[i-1000:i+1001])\n",
    "Xtrain_chr2L = np.array(Xtrain_chr2L)\n"
   ]
  },
  {
   "cell_type": "code",
   "execution_count": null,
   "metadata": {},
   "outputs": [],
   "source": [
    "#modèle\n",
    "\n",
    "model = tf.keras.models.Sequential([\n",
    "    tf.keras.layers.Conv1D(128, kernel_size=(6), activation='relu', input_shape=(2001,4)),\n",
    "    tf.keras.layers.MaxPooling1D(pool_size=(12)),\n",
    "    tf.keras.layers.Conv1D(64, kernel_size=(12), activation='relu'),\n",
    "    #tf.keras.layers.MaxPooling1D(pool_size=(12)),\n",
    "    tf.keras.layers.Flatten(),\n",
    "    tf.keras.layers.Dense(128, activation='relu'),\n",
    "    tf.keras.layers.Dense(1, activation='softmax')\n",
    "    ])\n",
    "\n",
    "loss_fn = tf.keras.losses.MeanAbsoluteError()\n",
    "\n",
    "model.compile(loss=loss_fn,\n",
    "    optimizer='adam',\n",
    "    metrics=['mae'])"
   ]
  },
  {
   "cell_type": "code",
   "execution_count": 9,
   "metadata": {},
   "outputs": [
    {
     "name": "stdout",
     "output_type": "stream",
     "text": [
      "Model: \"sequential\"\n",
      "_________________________________________________________________\n",
      " Layer (type)                Output Shape              Param #   \n",
      "=================================================================\n",
      " conv1d (Conv1D)             (None, 1996, 128)         3200      \n",
      "                                                                 \n",
      " max_pooling1d (MaxPooling1D  (None, 166, 128)         0         \n",
      " )                                                               \n",
      "                                                                 \n",
      " conv1d_1 (Conv1D)           (None, 155, 64)           98368     \n",
      "                                                                 \n",
      " flatten (Flatten)           (None, 9920)              0         \n",
      "                                                                 \n",
      " dense (Dense)               (None, 128)               1269888   \n",
      "                                                                 \n",
      " dense_1 (Dense)             (None, 1)                 129       \n",
      "                                                                 \n",
      "=================================================================\n",
      "Total params: 1,371,585\n",
      "Trainable params: 1,371,585\n",
      "Non-trainable params: 0\n",
      "_________________________________________________________________\n"
     ]
    }
   ],
   "source": [
    "model.summary()"
   ]
  },
  {
   "cell_type": "code",
   "execution_count": 13,
   "metadata": {},
   "outputs": [
    {
     "name": "stdout",
     "output_type": "stream",
     "text": [
      "Epoch 1/2\n",
      "219/219 [==============================] - 7s 31ms/step - loss: 0.9416 - mae: 0.9416 - val_loss: 0.9943 - val_mae: 0.9943\n",
      "Epoch 2/2\n",
      "219/219 [==============================] - 6s 29ms/step - loss: 0.9416 - mae: 0.9416 - val_loss: 0.9943 - val_mae: 0.9943\n"
     ]
    }
   ],
   "source": [
    "history = model.fit(Xtrain_chr2L, Ytrain_chr2L, epochs=2, validation_split=0.30, verbose=1)"
   ]
  },
  {
   "cell_type": "code",
   "execution_count": null,
   "metadata": {},
   "outputs": [],
   "source": [
    "len(Xtrain_chr2L)==len(Ytrain_chr2L)"
   ]
  },
  {
   "cell_type": "code",
   "execution_count": 22,
   "metadata": {},
   "outputs": [
    {
     "data": {
      "text/plain": [
       "137547960"
      ]
     },
     "execution_count": 22,
     "metadata": {},
     "output_type": "execute_result"
    }
   ],
   "source": [
    "len((np.load('/home/florian/projet/r6.16/seq.npz')['2L']))+len(np.load('/home/florian/projet/r6.16/seq.npz')['2R'])+len(np.load('/home/florian/projet/r6.16/seq.npz')['3R'])+len(np.load('/home/florian/projet/r6.16/seq.npz')['3L'])+len(np.load('/home/florian/projet/r6.16/seq.npz')['4 '])+len(np.load('/home/florian/projet/r6.16/seq.npz')['X '])+len(np.load('/home/florian/projet/r6.16/seq.npz')['Y'])"
   ]
  },
  {
   "cell_type": "code",
   "execution_count": 34,
   "metadata": {},
   "outputs": [
    {
     "ename": "",
     "evalue": "",
     "output_type": "error",
     "traceback": [
      "\u001b[1;31mCanceled future for execute_request message before replies were done"
     ]
    },
    {
     "ename": "",
     "evalue": "",
     "output_type": "error",
     "traceback": [
      "\u001b[1;31mThe Kernel crashed while executing code in the the current cell or a previous cell. Please review the code in the cell(s) to identify a possible cause of the failure. Click <a href='https://aka.ms/vscodeJupyterKernelCrash'>here</a> for more info. View Jupyter <a href='command:jupyter.viewOutput'>log</a> for further details."
     ]
    }
   ],
   "source": [
    "model.predict(Xtrain_chr2L[0])"
   ]
  },
  {
   "cell_type": "code",
   "execution_count": 12,
   "metadata": {},
   "outputs": [
    {
     "data": {
      "text/plain": [
       "(2001, 4)"
      ]
     },
     "execution_count": 12,
     "metadata": {},
     "output_type": "execute_result"
    }
   ],
   "source": [
    "np.shape(Xtrain_chr2L[0])"
   ]
  },
  {
   "cell_type": "code",
   "execution_count": null,
   "metadata": {},
   "outputs": [],
   "source": [
    "#create dataset\n",
    "Ytrain_chr2L=np.copy(val[1000:11000])#23512712])\n",
    "chr2L=np.copy(np.load('/home/florian/projet/r6.16/seq.npz')['2L'])\n",
    "Xtrain_chr2L=[]\n",
    "for i in range(1000,11000):#len(chr2L)-1001):\n",
    "    Xtrain_chr2L.append(chr2L[i-1000:i+1001])\n",
    "Xtrain_chr2L = np.array(Xtrain_chr2L)\n"
   ]
  },
  {
   "cell_type": "code",
   "execution_count": null,
   "metadata": {},
   "outputs": [],
   "source": [
    "model.evaluate(test_features, test_labels, verbose=0)"
   ]
  }
 ],
 "metadata": {
  "kernelspec": {
   "display_name": "workenv",
   "language": "python",
   "name": "python3"
  },
  "language_info": {
   "codemirror_mode": {
    "name": "ipython",
    "version": 3
   },
   "file_extension": ".py",
   "mimetype": "text/x-python",
   "name": "python",
   "nbconvert_exporter": "python",
   "pygments_lexer": "ipython3",
   "version": "3.10.8"
  },
  "orig_nbformat": 4,
  "vscode": {
   "interpreter": {
    "hash": "54b32c772bcf61fae46e7af2b7d10938df86a90a9000f73addfa04648299b89c"
   }
  }
 },
 "nbformat": 4,
 "nbformat_minor": 2
}
