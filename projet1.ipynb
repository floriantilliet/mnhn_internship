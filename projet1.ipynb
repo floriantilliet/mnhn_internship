{
 "cells": [
  {
   "cell_type": "code",
   "execution_count": 21,
   "metadata": {},
   "outputs": [],
   "source": [
    "import re\n",
    "import os\n",
    "import random as rd\n",
    "import tensorflow as tf\n",
    "import matplotlib.pyplot as plt\n",
    "import pyBigWig as pbg\n",
    "import numpy as np\n",
    "import scipy as sp\n",
    "import matplotlib.pyplot as plt\n",
    "import scipy.stats\n",
    "from scipy import sparse"
   ]
  },
  {
   "cell_type": "code",
   "execution_count": 2,
   "metadata": {},
   "outputs": [],
   "source": [
    "def ohe(seq):\n",
    "    seq2=list()\n",
    "    mapping = {\"A\":[1, 0, 0, 0], \"C\": [0, 1, 0, 0], \"G\": [1, 0, 0, 0], \"T\":[0, 0, 0, 1]}\n",
    "    for i in seq:\n",
    "      seq2.append(mapping[i]  if i in mapping.keys() else [0, 0, 0, 0]) \n",
    "    return np.array(seq2)"
   ]
  },
  {
   "cell_type": "code",
   "execution_count": 4,
   "metadata": {},
   "outputs": [],
   "source": [
    "#fasta to ohe numpy\n",
    "f=open('/home/florian/projet/r6.16/dmel-all-chromosome-r6.16.fasta','r')\n",
    "os.chdir('/home/florian/projet/r6.16')\n",
    "chr_name = str()\n",
    "seq=[]\n",
    "D={}\n",
    "for line in f:\n",
    "        line = line.rstrip()\n",
    "        if line[0] == '>':\n",
    "                if line[1:3]==\"2C\":\n",
    "                        break\n",
    "                if seq != []:\n",
    "                        D[chr_name]=ohe(seq)\n",
    "                chr_name = line[1:3].strip()\n",
    "                seq = []\n",
    "        else:\n",
    "                seq += line\n",
    "D[\"Y\"]=ohe(seq)\n",
    "np.savez_compressed('seq',**D)"
   ]
  },
  {
   "cell_type": "code",
   "execution_count": 35,
   "metadata": {},
   "outputs": [],
   "source": [
    "#bigwig to numpy\n",
    "os.chdir('/home/florian/projet/scATACseq')\n",
    "fichiers=os.listdir('/home/florian/projet/scATACseq')\n",
    "valeurs = []\n",
    "array=np.array(())\n",
    "for file in fichiers:\n",
    "    #print(\"processing file\", file)\n",
    "    bw=pbg.open(file)\n",
    "    array = np.concatenate((bw.values(\"2L\",0,-1,numpy=True),bw.values(\"2R\",0,-1,numpy=True),bw.values(\"3R\",0,-1,numpy=True),bw.values(\"3L\",0,-1,numpy=True),bw.values(\"4\",0,-1,numpy=True),bw.values(\"X\",0,-1,numpy=True),bw.values(\"Y\",0,-1,numpy=True)))\n",
    "    if len(valeurs) == 0:\n",
    "        valeurs = array\n",
    "    else:\n",
    "        valeurs += array\n",
    "os.chdir('/home/florian/projet')\n",
    "np.savez_compressed('scATACseq',valeurs=valeurs)"
   ]
  },
  {
   "cell_type": "code",
   "execution_count": 51,
   "metadata": {},
   "outputs": [],
   "source": [
    "#bigwig to numpy v2\n",
    "os.chdir('/home/florian/projet/scATACseq')\n",
    "fichiers=os.listdir('/home/florian/projet/scATACseq')\n",
    "valeurs =[]\n",
    "chr=[\"2L\",\"2R\",\"3R\",\"3L\",\"4\",\"X\",\"Y\"]\n",
    "Dic={\"2L\"}\n",
    "for file in fichiers:\n",
    "    #print(\"processing file\", file)\n",
    "    bw=pbg.open(file)\n",
    "    array = np.array(())\n",
    "    for j in chr:\n",
    "        array=np.append(array,bw.values(j,0,-1,numpy=True))\n",
    "    if len(valeurs) == 0:\n",
    "        valeurs = array\n",
    "    else:\n",
    "        valeurs += array\n",
    "os.chdir('/home/florian/projet')\n",
    "np.savez_compressed('scATACseq',valeurs=valeurs)"
   ]
  },
  {
   "cell_type": "code",
   "execution_count": 5,
   "metadata": {},
   "outputs": [],
   "source": [
    "#normalization\n",
    "val=np.load('/home/florian/projet/scATACseq.npz')['valeurs']\n",
    "val[val >= 2000] = 2000\n",
    "val=val/2000"
   ]
  },
  {
   "cell_type": "code",
   "execution_count": 75,
   "metadata": {},
   "outputs": [
    {
     "data": {
      "image/png": "[encoded data removed]",
      "text/plain": [
       "<Figure size 500x400 with 1 Axes>"
      ]
     },
     "metadata": {},
     "output_type": "display_data"
    }
   ],
   "source": [
    "plt.figure(figsize=(5,4))\n",
    "plt.hist(val,bins=500)#, density=True)\n",
    "plt.title(\"densité\")\n",
    "#plt.xscale('log')\n",
    "#plt.yscale('log')\n",
    "plt.show()"
   ]
  },
  {
   "cell_type": "code",
   "execution_count": 69,
   "metadata": {},
   "outputs": [
    {
     "data": {
      "text/plain": [
       "array([ 6996991,  9976181, 11850038, 11863907, 10838874,  9552758,\n",
       "        8299164,  7126978,  6082920,  5161836,  4390108,  3764809,\n",
       "        3231068,  2797591,  2437534,  2139603,  1891818,  1680440,\n",
       "        1503511,  1353620,  1221344,  1108159,  1012797,   923401,\n",
       "         843076,   778636,   717625,   666595,   618378,   574964,\n",
       "         533520,   497864,   466592,   437503,   411742,   387307,\n",
       "         365619,   346872,   327661,   311580,   297031,   285013,\n",
       "         273526,   260660,   247910,   237728,   227239,   218056,\n",
       "         209926,   202338,   193538,   186459,   179613,   173474,\n",
       "         168348,   161776,   156271,   150281,   144967,   139482,\n",
       "         135009,   131535,   127066,   123124,   118806,   116531,\n",
       "         113019,   108229,   105116,   101824,    99309,    96435,\n",
       "          93090,    90991,    87873,    85559,    83413,    81971,\n",
       "          79611,    77356,    75693,    73487,    71949,    69309,\n",
       "          68223,    67039,    65389,    63708,    61790,    60770,\n",
       "          59320,    57934,    57399,    55365,    54102,    53234,\n",
       "          52494,    51439,    50629,    49706,    48306,    47806,\n",
       "          46374,    45453,    44472,    44250,    43124,    42190,\n",
       "          41348,    40979,    40067,    39390,    38461,    37601,\n",
       "          37398,    36441,    35851,    35244,    34650,    34210,\n",
       "          33770,    33091,    32492,    32647,    32022,    31303,\n",
       "          30930,    30320,    29988,    29085,    29127,    28179,\n",
       "          28124,    27333,    27437,    26909,    26871,    25827,\n",
       "          25805,    25642,    25293,    24794,    24514,    24436,\n",
       "          24364,    23687,    23128,    22997,    22680,    22812,\n",
       "          22187,    22013,    21772,    21405,    21418,    21144,\n",
       "          20829,    20669,    20399,    20193,    19670,    19906,\n",
       "          19478,    19299,    19109,    19061,    18767,    18567,\n",
       "          18386,    17949,    17810,    17949,    17801,    17613,\n",
       "          17497,    17240,    16874,    16984,    17047,    16969,\n",
       "          16742,    16729,    16404,    16225,    15961,    15957,\n",
       "          15616,    15572,    15597,    15342,    15356,    15038,\n",
       "          15026,    14782,    14400,    14271,    14417,    14054,\n",
       "          13884,    13743,    13885,    13553,    13518,    13490,\n",
       "          13504,    13208,    13084,    13033,    12864,    12689,\n",
       "          12739,    12812,    12655,    12455,    12459,    12562,\n",
       "          12414,    12381,    12110,    12322,    11959,    11996,\n",
       "          11783,    11691,    11695,    11574,    11414,    11384,\n",
       "          11395,    11268,    11073,    11161,    10922,    10783,\n",
       "          10725,    10527,    10821,    10540,    10546,    10337,\n",
       "          10383,    10489,    10198,    10031,     9977,    10007,\n",
       "           9958,     9922,     9919,     9832,     9714,     9587,\n",
       "           9703,     9517,     9469,     9194,     9257,     9315,\n",
       "           9175,     9159,     9159,     9453,     9164,     8991,\n",
       "           8937,     9081,     8862,     8829,     8722,     8677,\n",
       "           8569,     8618,     8475,     8534,     8327,     8510,\n",
       "           8355,     8299,     8222,     8212,     8359,     8117,\n",
       "           8117,     8103,     8110,     8232,     7999,     8005,\n",
       "           8060,     7723,     7848,     7836,     7650,     7660,\n",
       "           7676,     7656,     7469,     7451,     7272,     7443,\n",
       "           7297,     7359,     7410,     7158,     7246,     7192,\n",
       "           7055,     7134,     6925,     6917,     6989,     7009,\n",
       "           6914,     6984,     6850,     6821,     6765,     6842,\n",
       "           6718,     6664,     6538,     6493,     6395,     6450,\n",
       "           6293,     6456,     6550,     6408,     6565,     6283,\n",
       "           6336,     6277,     6230,     6258,     6154,     6195,\n",
       "           6072,     6137,     6017,     6222,     6026,     6066,\n",
       "           6002,     5940,     5780,     5880,     5918,     5851,\n",
       "           5749,     5723,     5700,     5739,     5680,     5604,\n",
       "           5590,     5587,     5554,     5509,     5604,     5530,\n",
       "           5356,     5330,     5393,     5203,     5173,     5070,\n",
       "           5135,     5142,     5121,     5153,     5174,     4944,\n",
       "           4925,     4915,     4813,     5097,     4925,     4946,\n",
       "           4962,     4882,     4963,     4999,     4912,     4635,\n",
       "           4832,     4847,     4864,     4701,     4742,     4677,\n",
       "           4587,     4711,     4633,     4627,     4674,     4548,\n",
       "           4624,     4556,     4526,     4530,     4368,     4587,\n",
       "           4312,     4408,     4445,     4367,     4278,     4365,\n",
       "           4348,     4307,     4193,     4243,     4215,     4053,\n",
       "           4095,     4053,     4047,     3997,     3978,     3983,\n",
       "           4004,     3978,     3923,     3777,     3820,     3807,\n",
       "           3811,     3861,     3741,     3730,     3839,     3708,\n",
       "           3655,     3774,     3766,     3616,     3682,     3601,\n",
       "           3695,     3582,     3525,     3551,     3522,     3525,\n",
       "           3593,     3393,     3487,     3367,     3425,     3319,\n",
       "           3223,     3280,     3252,     3209,     3278,     3141,\n",
       "           3126,     3064,     3246,     3062,     2956,     3050,\n",
       "           3074,     3066,     3004,     3011,     2983,     3074,\n",
       "           2875,     2746,     2984,     2860,     2911,     2750,\n",
       "           2834,     2827,     2822,     2892,     2683,     2737,\n",
       "           2694,     2726,     2704,     2632,     2613,     2563,\n",
       "           2594,     2455,     2540,     2507,     2408,     2462,\n",
       "           2509,     2414,     2372,     2425,     2276,     2470,\n",
       "           2283,   231389])"
      ]
     },
     "execution_count": 69,
     "metadata": {},
     "output_type": "execute_result"
    }
   ],
   "source": [
    "((np.histogram(val,bins=500)[0]))"
   ]
  },
  {
   "cell_type": "code",
   "execution_count": 9,
   "metadata": {},
   "outputs": [
    {
     "data": {
      "text/plain": [
       "[<matplotlib.lines.Line2D at 0x7f250c3a8be0>]"
      ]
     },
     "execution_count": 9,
     "metadata": {},
     "output_type": "execute_result"
    },
    {
     "data": {
      "image/png": "[encoded data removed]",
      "text/plain": [
       "<Figure size 640x480 with 1 Axes>"
      ]
     },
     "metadata": {},
     "output_type": "display_data"
    }
   ],
   "source": [
    "plt.plot((val[1000000:1100000]))"
   ]
  },
  {
   "cell_type": "code",
   "execution_count": 29,
   "metadata": {},
   "outputs": [],
   "source": [
    "len((np.load('/home/florian/projet/r6.16/seq.npz')['2L']))\n",
    "LEN=np.arange(1000,23512712)#fenêtre de la taille du chromosome 2L -1000 à gauche et -1001 à droite\n",
    "dataset=rd.choices(LEN,k=10000)"
   ]
  },
  {
   "cell_type": "code",
   "execution_count": 30,
   "metadata": {},
   "outputs": [],
   "source": [
    "#create dataset random\n",
    "Yrtrain_chr2L=np.copy(val[dataset])\n",
    "chr2L=np.copy(np.load('/home/florian/projet/r6.16/seq.npz')['2L'])\n",
    "Xrtrain_chr2L=[]\n",
    "for i in dataset:\n",
    "    Xrtrain_chr2L.append(np.array(chr2L[i-1000:i+1001]))\n",
    "Xrtrain_chr2L = np.array(Xrtrain_chr2L)\n"
   ]
  },
  {
   "cell_type": "code",
   "execution_count": 2,
   "metadata": {},
   "outputs": [],
   "source": [
    "#generator\n",
    "class MySequence(tf.keras.utils.Sequence):\n",
    "\n",
    "    def __init__(self, x_set, y_set, batch_size, max_data=2**20, WINDOW=2001):\n",
    "        self.x, self.y = x_set, y_set\n",
    "        self.batch_size = batch_size\n",
    "        self.WINDOW = WINDOW\n",
    "        n_data = min(len(self.x)-self.WINDOW+1, max_data)\n",
    "        self.indices = np.arange(self.WINDOW//2, n_data+self.WINDOW//2)\n",
    "        np.random.shuffle(self.indices)\n",
    "\n",
    "    def __len__(self):\n",
    "        return int(np.ceil(len(self.indices) / self.batch_size))\n",
    "\n",
    "    def __getitem__(self, idx):\n",
    "        #batch_x_indices = np.arange([idx * self.batch_size:(idx + 1) *self.batch_size])\n",
    "        # batch_x = Xtrain_chr2L=[]\n",
    "        batch_indices = self.indices[idx*self.batch_size:(idx+1)*self.batch_size]\n",
    "        # for i in batch_indices:\n",
    "        #     if i+2001 > len(self.x):\n",
    "        #         break\n",
    "        #     batch_x.append(self.x[i:i+2001])\n",
    "        window_indices = batch_indices.reshape(-1, 1) + np.arange(-(self.WINDOW//2), self.WINDOW//2 + 1).reshape(1, -1)\n",
    "        batch_x = self.x[window_indices]\n",
    "\n",
    "        # batch_x = np.array(Xtrain_chr2L)\n",
    "        batch_y = self.y[batch_indices]\n",
    "        #batch_x = self.extract_windows(indices)\n",
    "        return batch_x, batch_y\n",
    "        return np.array([\n",
    "            resize(imread(file_name), (200, 200))\n",
    "               for file_name in batch_x]), np.array(batch_y)\n",
    "    \n",
    "    def on_epoch_end(self):\n",
    "        np.random.shuffle(self.indices)\n",
    "    #def extract_windows(self, indices):\n",
    "        # function to get windows\n",
    "        # return windows\n",
    "\n",
    "    \n"
   ]
  },
  {
   "cell_type": "code",
   "execution_count": 25,
   "metadata": {},
   "outputs": [],
   "source": [
    "#generator weighted scikit\n",
    "from sklearn.utils.class_weight import compute_sample_weight\n",
    "class MySkWeightedSequence(tf.keras.utils.Sequence):\n",
    "\n",
    "    def __init__(self, x_set, y_set, batch_size, max_data=2**20, WINDOW=2001):\n",
    "        self.x, self.y = x_set, y_set\n",
    "        self.batch_size = batch_size\n",
    "        self.WINDOW = WINDOW\n",
    "        n_data = min(len(self.x)-self.WINDOW+1, max_data)\n",
    "        self.indices = np.arange(self.WINDOW//2, n_data+self.WINDOW//2)\n",
    "        np.random.shuffle(self.indices)\n",
    "\n",
    "    def __len__(self):\n",
    "        return int(np.ceil(len(self.indices) / self.batch_size))\n",
    "\n",
    "    def __getitem__(self, idx):\n",
    "        batch_indices = self.indices[idx*self.batch_size:(idx+1)*self.batch_size]\n",
    "        window_indices = batch_indices.reshape(-1, 1) + np.arange(-(self.WINDOW//2), self.WINDOW//2 + 1).reshape(1, -1)\n",
    "        batch_x = self.x[window_indices]\n",
    "        batch_y = self.y[batch_indices]\n",
    "        batch_weights = compute_sample_weight(\"balanced\",batch_y)\n",
    "        return batch_x, batch_y, batch_weights\n",
    "        #works but weird:\n",
    "        #batch_y=batch_y*compute_sample_weight(\"balanced\",batch_y)\n",
    "        #return batch_x, batch_y\n",
    "        \n",
    "    def on_epoch_end(self):\n",
    "        np.random.shuffle(self.indices)\n"
   ]
  },
  {
   "cell_type": "code",
   "execution_count": 91,
   "metadata": {},
   "outputs": [],
   "source": [
    "#generator weighted homebrew\n",
    "from sklearn.utils.class_weight import compute_sample_weight\n",
    "class MyHbWeightedSequence(tf.keras.utils.Sequence):\n",
    "\n",
    "    def __init__(self, x_set, y_set, batch_size, max_data=2**20, WINDOW=2001):\n",
    "        self.x, self.y = x_set, y_set\n",
    "        self.batch_size = batch_size\n",
    "        self.WINDOW = WINDOW\n",
    "        n_data = min(len(self.x)-self.WINDOW+1, max_data)\n",
    "        self.indices = np.arange(self.WINDOW//2, n_data+self.WINDOW//2)\n",
    "        np.random.shuffle(self.indices)\n",
    "\n",
    "    def __len__(self):\n",
    "        return int(np.ceil(len(self.indices) / self.batch_size))\n",
    "\n",
    "    def __getitem__(self, idx):\n",
    "        batch_indices = self.indices[idx*self.batch_size:(idx+1)*self.batch_size]\n",
    "        window_indices = batch_indices.reshape(-1, 1) + np.arange(-(self.WINDOW//2), self.WINDOW//2 + 1).reshape(1, -1)\n",
    "        batch_x = self.x[window_indices]\n",
    "        batch_y = self.y[batch_indices]\n",
    "        # batch_weights=np.array(())\n",
    "        bin_values, bin_edges = np.histogram(batch_y, bins=500)\n",
    "        bin_indices = np.digitize(batch_y, bin_edges)\n",
    "        bin_indices[bin_indices == 501] = 500\n",
    "        bin_indices -= 1\n",
    "        batch_weights = 1 / bin_values[bin_indices]\n",
    "        # for i in batch_y:\n",
    "        #     batch_weights = np.append(batch_weights,1/np.histogram(batch_y,bins=500)[0][int(np.trunc(i*500-1))])\n",
    "            # batch_weights.append(1 / bin_values[bin_indices[i]])\n",
    "        return batch_x, batch_y, batch_weights\n",
    "        \n",
    "    def on_epoch_end(self):\n",
    "        np.random.shuffle(self.indices)\n"
   ]
  },
  {
   "cell_type": "code",
   "execution_count": 64,
   "metadata": {},
   "outputs": [
    {
     "data": {
      "text/plain": [
       "137547960"
      ]
     },
     "execution_count": 64,
     "metadata": {},
     "output_type": "execute_result"
    }
   ],
   "source": [
    "np.sum((np.histogram(val,bins=500)[0]))"
   ]
  },
  {
   "cell_type": "code",
   "execution_count": 76,
   "metadata": {},
   "outputs": [],
   "source": [
    "bin_values, bin_edges = np.histogram(val,bins=500)"
   ]
  },
  {
   "cell_type": "code",
   "execution_count": 77,
   "metadata": {},
   "outputs": [
    {
     "data": {
      "text/plain": [
       "array([0.   , 0.002, 0.004, 0.006, 0.008, 0.01 , 0.012, 0.014, 0.016,\n",
       "       0.018, 0.02 , 0.022, 0.024, 0.026, 0.028, 0.03 , 0.032, 0.034,\n",
       "       0.036, 0.038, 0.04 , 0.042, 0.044, 0.046, 0.048, 0.05 , 0.052,\n",
       "       0.054, 0.056, 0.058, 0.06 , 0.062, 0.064, 0.066, 0.068, 0.07 ,\n",
       "       0.072, 0.074, 0.076, 0.078, 0.08 , 0.082, 0.084, 0.086, 0.088,\n",
       "       0.09 , 0.092, 0.094, 0.096, 0.098, 0.1  , 0.102, 0.104, 0.106,\n",
       "       0.108, 0.11 , 0.112, 0.114, 0.116, 0.118, 0.12 , 0.122, 0.124,\n",
       "       0.126, 0.128, 0.13 , 0.132, 0.134, 0.136, 0.138, 0.14 , 0.142,\n",
       "       0.144, 0.146, 0.148, 0.15 , 0.152, 0.154, 0.156, 0.158, 0.16 ,\n",
       "       0.162, 0.164, 0.166, 0.168, 0.17 , 0.172, 0.174, 0.176, 0.178,\n",
       "       0.18 , 0.182, 0.184, 0.186, 0.188, 0.19 , 0.192, 0.194, 0.196,\n",
       "       0.198, 0.2  , 0.202, 0.204, 0.206, 0.208, 0.21 , 0.212, 0.214,\n",
       "       0.216, 0.218, 0.22 , 0.222, 0.224, 0.226, 0.228, 0.23 , 0.232,\n",
       "       0.234, 0.236, 0.238, 0.24 , 0.242, 0.244, 0.246, 0.248, 0.25 ,\n",
       "       0.252, 0.254, 0.256, 0.258, 0.26 , 0.262, 0.264, 0.266, 0.268,\n",
       "       0.27 , 0.272, 0.274, 0.276, 0.278, 0.28 , 0.282, 0.284, 0.286,\n",
       "       0.288, 0.29 , 0.292, 0.294, 0.296, 0.298, 0.3  , 0.302, 0.304,\n",
       "       0.306, 0.308, 0.31 , 0.312, 0.314, 0.316, 0.318, 0.32 , 0.322,\n",
       "       0.324, 0.326, 0.328, 0.33 , 0.332, 0.334, 0.336, 0.338, 0.34 ,\n",
       "       0.342, 0.344, 0.346, 0.348, 0.35 , 0.352, 0.354, 0.356, 0.358,\n",
       "       0.36 , 0.362, 0.364, 0.366, 0.368, 0.37 , 0.372, 0.374, 0.376,\n",
       "       0.378, 0.38 , 0.382, 0.384, 0.386, 0.388, 0.39 , 0.392, 0.394,\n",
       "       0.396, 0.398, 0.4  , 0.402, 0.404, 0.406, 0.408, 0.41 , 0.412,\n",
       "       0.414, 0.416, 0.418, 0.42 , 0.422, 0.424, 0.426, 0.428, 0.43 ,\n",
       "       0.432, 0.434, 0.436, 0.438, 0.44 , 0.442, 0.444, 0.446, 0.448,\n",
       "       0.45 , 0.452, 0.454, 0.456, 0.458, 0.46 , 0.462, 0.464, 0.466,\n",
       "       0.468, 0.47 , 0.472, 0.474, 0.476, 0.478, 0.48 , 0.482, 0.484,\n",
       "       0.486, 0.488, 0.49 , 0.492, 0.494, 0.496, 0.498, 0.5  , 0.502,\n",
       "       0.504, 0.506, 0.508, 0.51 , 0.512, 0.514, 0.516, 0.518, 0.52 ,\n",
       "       0.522, 0.524, 0.526, 0.528, 0.53 , 0.532, 0.534, 0.536, 0.538,\n",
       "       0.54 , 0.542, 0.544, 0.546, 0.548, 0.55 , 0.552, 0.554, 0.556,\n",
       "       0.558, 0.56 , 0.562, 0.564, 0.566, 0.568, 0.57 , 0.572, 0.574,\n",
       "       0.576, 0.578, 0.58 , 0.582, 0.584, 0.586, 0.588, 0.59 , 0.592,\n",
       "       0.594, 0.596, 0.598, 0.6  , 0.602, 0.604, 0.606, 0.608, 0.61 ,\n",
       "       0.612, 0.614, 0.616, 0.618, 0.62 , 0.622, 0.624, 0.626, 0.628,\n",
       "       0.63 , 0.632, 0.634, 0.636, 0.638, 0.64 , 0.642, 0.644, 0.646,\n",
       "       0.648, 0.65 , 0.652, 0.654, 0.656, 0.658, 0.66 , 0.662, 0.664,\n",
       "       0.666, 0.668, 0.67 , 0.672, 0.674, 0.676, 0.678, 0.68 , 0.682,\n",
       "       0.684, 0.686, 0.688, 0.69 , 0.692, 0.694, 0.696, 0.698, 0.7  ,\n",
       "       0.702, 0.704, 0.706, 0.708, 0.71 , 0.712, 0.714, 0.716, 0.718,\n",
       "       0.72 , 0.722, 0.724, 0.726, 0.728, 0.73 , 0.732, 0.734, 0.736,\n",
       "       0.738, 0.74 , 0.742, 0.744, 0.746, 0.748, 0.75 , 0.752, 0.754,\n",
       "       0.756, 0.758, 0.76 , 0.762, 0.764, 0.766, 0.768, 0.77 , 0.772,\n",
       "       0.774, 0.776, 0.778, 0.78 , 0.782, 0.784, 0.786, 0.788, 0.79 ,\n",
       "       0.792, 0.794, 0.796, 0.798, 0.8  , 0.802, 0.804, 0.806, 0.808,\n",
       "       0.81 , 0.812, 0.814, 0.816, 0.818, 0.82 , 0.822, 0.824, 0.826,\n",
       "       0.828, 0.83 , 0.832, 0.834, 0.836, 0.838, 0.84 , 0.842, 0.844,\n",
       "       0.846, 0.848, 0.85 , 0.852, 0.854, 0.856, 0.858, 0.86 , 0.862,\n",
       "       0.864, 0.866, 0.868, 0.87 , 0.872, 0.874, 0.876, 0.878, 0.88 ,\n",
       "       0.882, 0.884, 0.886, 0.888, 0.89 , 0.892, 0.894, 0.896, 0.898,\n",
       "       0.9  , 0.902, 0.904, 0.906, 0.908, 0.91 , 0.912, 0.914, 0.916,\n",
       "       0.918, 0.92 , 0.922, 0.924, 0.926, 0.928, 0.93 , 0.932, 0.934,\n",
       "       0.936, 0.938, 0.94 , 0.942, 0.944, 0.946, 0.948, 0.95 , 0.952,\n",
       "       0.954, 0.956, 0.958, 0.96 , 0.962, 0.964, 0.966, 0.968, 0.97 ,\n",
       "       0.972, 0.974, 0.976, 0.978, 0.98 , 0.982, 0.984, 0.986, 0.988,\n",
       "       0.99 , 0.992, 0.994, 0.996, 0.998, 1.   ])"
      ]
     },
     "execution_count": 77,
     "metadata": {},
     "output_type": "execute_result"
    }
   ],
   "source": [
    "bin_edges"
   ]
  },
  {
   "cell_type": "code",
   "execution_count": 83,
   "metadata": {},
   "outputs": [
    {
     "data": {
      "text/plain": [
       "231389"
      ]
     },
     "execution_count": 83,
     "metadata": {},
     "output_type": "execute_result"
    }
   ],
   "source": [
    "bin_values[-1]"
   ]
  },
  {
   "cell_type": "code",
   "execution_count": 90,
   "metadata": {},
   "outputs": [
    {
     "name": "stdout",
     "output_type": "stream",
     "text": [
      "2283\n",
      "229106\n"
     ]
    },
    {
     "data": {
      "text/plain": [
       "1"
      ]
     },
     "execution_count": 90,
     "metadata": {},
     "output_type": "execute_result"
    }
   ],
   "source": [
    "a = np.digitize(val, bin_edges)\n",
    "print(len(a[a == 500]))\n",
    "print(len(a[a == 501]))\n",
    "np.min(a)"
   ]
  },
  {
   "cell_type": "code",
   "execution_count": 15,
   "metadata": {},
   "outputs": [],
   "source": [
    "#generates values\n",
    "x=np.load('/home/florian/projet/r6.16/seq.npz')['2L']\n",
    "y=np.copy(val)[:len(x)]\n",
    "x_valid=np.load('/home/florian/projet/r6.16/seq.npz')['2R']\n",
    "y_valid=np.copy(val)[len(x):len(x)+len(x_valid)]\n",
    "gen = MySequence(x, y, 1024, max_data=2**20)\n",
    "gen_valid = MySequence(x_valid, y_valid, 1024, max_data=2**14)"
   ]
  },
  {
   "cell_type": "code",
   "execution_count": 29,
   "metadata": {},
   "outputs": [],
   "source": [
    "#generates scikit weighted values\n",
    "x=np.load('/home/florian/projet/r6.16/seq.npz')['2L']\n",
    "y=np.copy(val)[:len(x)]\n",
    "x_valid=np.load('/home/florian/projet/r6.16/seq.npz')['2R']\n",
    "y_valid=np.copy(val)[len(x):len(x)+len(x_valid)]\n",
    "gen = MySkWeightedSequence(x, y, 1024, max_data=2**20)\n",
    "gen_valid = MySkWeightedSequence(x_valid, y_valid, 1024, max_data=2**14)"
   ]
  },
  {
   "cell_type": "code",
   "execution_count": 92,
   "metadata": {},
   "outputs": [],
   "source": [
    "#generates homebrew weighted values\n",
    "x=np.load('/home/florian/projet/r6.16/seq.npz')['2L']\n",
    "y=np.copy(val)[:len(x)]\n",
    "x_valid=np.load('/home/florian/projet/r6.16/seq.npz')['2R']\n",
    "y_valid=np.copy(val)[len(x):len(x)+len(x_valid)]\n",
    "gen = MyHbWeightedSequence(x, y, 1024, max_data=2**20)\n",
    "gen_valid = MyHbWeightedSequence(x_valid, y_valid, 1024, max_data=2**14)"
   ]
  },
  {
   "cell_type": "code",
   "execution_count": 87,
   "metadata": {},
   "outputs": [],
   "source": [
    "#cor_losses\n",
    "import keras.backend as K\n",
    "def mae_cor(y_true, y_pred):\n",
    "    \"\"\"Compute loss with Mean absolute error and correlation.\n",
    "        :Example:\n",
    "        >>> model.compile(optimizer = 'adam', losses = mae_cor)\n",
    "        >>> load_model('file', custom_objects = {'mae_cor : mae_cor})\n",
    "    \"\"\"\n",
    "    X = y_true - K.mean(y_true)\n",
    "    Y = y_pred - K.mean(y_pred)\n",
    "\n",
    "    sigma_XY = K.sum(X*Y)\n",
    "    sigma_X = K.sqrt(K.sum(X*X))\n",
    "    sigma_Y = K.sqrt(K.sum(Y*Y))\n",
    "\n",
    "    cor = sigma_XY/(sigma_X*sigma_Y + K.epsilon())\n",
    "    mae = K.mean(K.abs(y_true - y_pred))\n",
    "\n",
    "    return (1 - cor) + mae\n",
    "\n",
    "def mse_cor(y_true, y_pred):\n",
    "    \"\"\"Compute loss with Mean squared error and correlation.\n",
    "    \"\"\"\n",
    "    X = y_true - K.mean(y_true)\n",
    "    Y = y_pred - K.mean(y_pred)\n",
    "\n",
    "    sigma_XY = K.sum(X*Y)\n",
    "    sigma_X = K.sqrt(K.sum(X*X))\n",
    "    sigma_Y = K.sqrt(K.sum(Y*Y))\n",
    "\n",
    "    cor = sigma_XY/(sigma_X*sigma_Y + K.epsilon())\n",
    "    mse = K.sqrt(K.mean(K.abs(y_true - y_pred)**2))\n",
    "\n",
    "    return (1 - cor) + mse\n",
    "\n",
    "def cor(y_true, y_pred):\n",
    "    \"\"\"Compute correlation.\n",
    "    \"\"\"\n",
    "    X = y_true - np.mean(y_true)\n",
    "    Y = y_pred - np.mean(y_pred)\n",
    "\n",
    "    sigma_XY = np.sum(X*Y)\n",
    "    sigma_X = np.sqrt(np.sum(X*X))\n",
    "    sigma_Y = np.sqrt(np.sum(Y*Y))\n",
    "\n",
    "    cor = sigma_XY/(sigma_X*sigma_Y + K.epsilon())\n",
    "    return(cor)\n"
   ]
  },
  {
   "cell_type": "code",
   "execution_count": 93,
   "metadata": {},
   "outputs": [],
   "source": [
    "#modèle\n",
    "\n",
    "model = tf.keras.models.Sequential([\n",
    "    tf.keras.layers.Conv1D(128, kernel_size=(6), activation='relu', input_shape=(2001,4)),\n",
    "    tf.keras.layers.MaxPooling1D(pool_size=(2)),\n",
    "    tf.keras.layers.Conv1D(64, kernel_size=(12), activation='relu'),\n",
    "    tf.keras.layers.MaxPooling1D(pool_size=(2)),\n",
    "    tf.keras.layers.Conv1D(32, kernel_size=(12), activation='relu'),\n",
    "    tf.keras.layers.Flatten(),\n",
    "    tf.keras.layers.Dense(128, activation='relu'),\n",
    "    tf.keras.layers.Dense(1) #activation=\"sigmoid\")\n",
    "    ])\n",
    "\n",
    "loss_fn = tf.keras.losses.MeanSquaredError()\n",
    "\n",
    "model.compile(loss=mse_cor,\n",
    "    optimizer='adam',\n",
    "    metrics=['mae'])"
   ]
  },
  {
   "cell_type": "code",
   "execution_count": 69,
   "metadata": {},
   "outputs": [
    {
     "name": "stdout",
     "output_type": "stream",
     "text": [
      "Model: \"sequential_10\"\n",
      "_________________________________________________________________\n",
      " Layer (type)                Output Shape              Param #   \n",
      "=================================================================\n",
      " conv1d_29 (Conv1D)          (None, 1996, 128)         3200      \n",
      "                                                                 \n",
      " max_pooling1d_19 (MaxPoolin  (None, 998, 128)         0         \n",
      " g1D)                                                            \n",
      "                                                                 \n",
      " conv1d_30 (Conv1D)          (None, 987, 64)           98368     \n",
      "                                                                 \n",
      " max_pooling1d_20 (MaxPoolin  (None, 493, 64)          0         \n",
      " g1D)                                                            \n",
      "                                                                 \n",
      " conv1d_31 (Conv1D)          (None, 482, 32)           24608     \n",
      "                                                                 \n",
      " flatten_10 (Flatten)        (None, 15424)             0         \n",
      "                                                                 \n",
      " dense_20 (Dense)            (None, 128)               1974400   \n",
      "                                                                 \n",
      " dense_21 (Dense)            (None, 1)                 129       \n",
      "                                                                 \n",
      "=================================================================\n",
      "Total params: 2,100,705\n",
      "Trainable params: 2,100,705\n",
      "Non-trainable params: 0\n",
      "_________________________________________________________________\n"
     ]
    }
   ],
   "source": [
    "model.summary()"
   ]
  },
  {
   "cell_type": "code",
   "execution_count": 84,
   "metadata": {},
   "outputs": [
    {
     "name": "stdout",
     "output_type": "stream",
     "text": [
      "Epoch 1/4\n",
      "1024/1024 [==============================] - 700s 684ms/step - loss: 0.3118 - mae: 0.0515 - val_loss: 1.2224 - val_mae: 0.0487\n",
      "Epoch 2/4\n",
      "1024/1024 [==============================] - 702s 686ms/step - loss: 0.1060 - mae: 0.0226 - val_loss: 1.3327 - val_mae: 0.0508\n",
      "Epoch 3/4\n",
      "1024/1024 [==============================] - 702s 686ms/step - loss: 0.0701 - mae: 0.0176 - val_loss: 1.2825 - val_mae: 0.0467\n",
      "Epoch 4/4\n",
      "1024/1024 [==============================] - 702s 686ms/step - loss: 0.0577 - mae: 0.0151 - val_loss: 1.2886 - val_mae: 0.0460\n"
     ]
    },
    {
     "data": {
      "text/plain": [
       "<keras.callbacks.History at 0x7f19d8cc1240>"
      ]
     },
     "execution_count": 84,
     "metadata": {},
     "output_type": "execute_result"
    }
   ],
   "source": [
    "model.fit(gen,validation_data=gen_valid,epochs=4,verbose=1)"
   ]
  },
  {
   "cell_type": "code",
   "execution_count": 53,
   "metadata": {},
   "outputs": [],
   "source": [
    "model2 = tf.keras.models.Sequential([\n",
    "    tf.keras.layers.Conv1D(128, kernel_size=(6), activation='relu', input_shape=(2001,4)),\n",
    "    tf.keras.layers.MaxPooling1D(pool_size=(2)),\n",
    "    tf.keras.layers.Conv1D(64, kernel_size=(12), activation='relu'),\n",
    "    tf.keras.layers.MaxPooling1D(pool_size=(2)),\n",
    "    tf.keras.layers.Conv1D(32, kernel_size=(12), activation='relu'),\n",
    "    tf.keras.layers.Flatten(),\n",
    "    tf.keras.layers.Dense(128, activation='relu'),\n",
    "    tf.keras.layers.Dense(1) #activation=\"sigmoid\")\n",
    "    ])\n",
    "\n",
    "loss_fn = tf.keras.losses.MeanSquaredError()\n",
    "\n",
    "model2.compile(loss=mse_cor,\n",
    "    optimizer='adam',\n",
    "    metrics=['mae'])"
   ]
  },
  {
   "cell_type": "code",
   "execution_count": 94,
   "metadata": {},
   "outputs": [
    {
     "name": "stdout",
     "output_type": "stream",
     "text": [
      "Epoch 1/2\n",
      "   6/1024 [..............................] - ETA: 20:33 - loss: 0.1749 - mae: 0.4132"
     ]
    },
    {
     "ename": "KeyboardInterrupt",
     "evalue": "",
     "output_type": "error",
     "traceback": [
      "\u001b[0;31m---------------------------------------------------------------------------\u001b[0m",
      "\u001b[0;31mKeyboardInterrupt\u001b[0m                         Traceback (most recent call last)",
      "Cell \u001b[0;32mIn[94], line 4\u001b[0m\n\u001b[1;32m      1\u001b[0m cp_callback \u001b[39m=\u001b[39m tf\u001b[39m.\u001b[39mkeras\u001b[39m.\u001b[39mcallbacks\u001b[39m.\u001b[39mModelCheckpoint(filepath\u001b[39m=\u001b[39m\u001b[39m'\u001b[39m\u001b[39m/home/florian/projet/models/hb_weights/cp.cpkt\u001b[39m\u001b[39m'\u001b[39m,\n\u001b[1;32m      2\u001b[0m                                                  save_weights_only\u001b[39m=\u001b[39m\u001b[39mTrue\u001b[39;00m,\n\u001b[1;32m      3\u001b[0m                                                  verbose\u001b[39m=\u001b[39m\u001b[39m1\u001b[39m)\n\u001b[0;32m----> 4\u001b[0m model\u001b[39m.\u001b[39;49mfit(gen,validation_data\u001b[39m=\u001b[39;49mgen_valid,epochs\u001b[39m=\u001b[39;49m\u001b[39m2\u001b[39;49m,verbose\u001b[39m=\u001b[39;49m\u001b[39m1\u001b[39;49m, callbacks\u001b[39m=\u001b[39;49m[cp_callback])\n",
      "File \u001b[0;32m/home/dell1/anaconda3/envs/workenv/lib/python3.10/site-packages/keras/utils/traceback_utils.py:65\u001b[0m, in \u001b[0;36mfilter_traceback.<locals>.error_handler\u001b[0;34m(*args, **kwargs)\u001b[0m\n\u001b[1;32m     63\u001b[0m filtered_tb \u001b[39m=\u001b[39m \u001b[39mNone\u001b[39;00m\n\u001b[1;32m     64\u001b[0m \u001b[39mtry\u001b[39;00m:\n\u001b[0;32m---> 65\u001b[0m     \u001b[39mreturn\u001b[39;00m fn(\u001b[39m*\u001b[39;49margs, \u001b[39m*\u001b[39;49m\u001b[39m*\u001b[39;49mkwargs)\n\u001b[1;32m     66\u001b[0m \u001b[39mexcept\u001b[39;00m \u001b[39mException\u001b[39;00m \u001b[39mas\u001b[39;00m e:\n\u001b[1;32m     67\u001b[0m     filtered_tb \u001b[39m=\u001b[39m _process_traceback_frames(e\u001b[39m.\u001b[39m__traceback__)\n",
      "File \u001b[0;32m/home/dell1/anaconda3/envs/workenv/lib/python3.10/site-packages/keras/engine/training.py:1650\u001b[0m, in \u001b[0;36mModel.fit\u001b[0;34m(self, x, y, batch_size, epochs, verbose, callbacks, validation_split, validation_data, shuffle, class_weight, sample_weight, initial_epoch, steps_per_epoch, validation_steps, validation_batch_size, validation_freq, max_queue_size, workers, use_multiprocessing)\u001b[0m\n\u001b[1;32m   1642\u001b[0m \u001b[39mwith\u001b[39;00m tf\u001b[39m.\u001b[39mprofiler\u001b[39m.\u001b[39mexperimental\u001b[39m.\u001b[39mTrace(\n\u001b[1;32m   1643\u001b[0m     \u001b[39m\"\u001b[39m\u001b[39mtrain\u001b[39m\u001b[39m\"\u001b[39m,\n\u001b[1;32m   1644\u001b[0m     epoch_num\u001b[39m=\u001b[39mepoch,\n\u001b[0;32m   (...)\u001b[0m\n\u001b[1;32m   1647\u001b[0m     _r\u001b[39m=\u001b[39m\u001b[39m1\u001b[39m,\n\u001b[1;32m   1648\u001b[0m ):\n\u001b[1;32m   1649\u001b[0m     callbacks\u001b[39m.\u001b[39mon_train_batch_begin(step)\n\u001b[0;32m-> 1650\u001b[0m     tmp_logs \u001b[39m=\u001b[39m \u001b[39mself\u001b[39;49m\u001b[39m.\u001b[39;49mtrain_function(iterator)\n\u001b[1;32m   1651\u001b[0m     \u001b[39mif\u001b[39;00m data_handler\u001b[39m.\u001b[39mshould_sync:\n\u001b[1;32m   1652\u001b[0m         context\u001b[39m.\u001b[39masync_wait()\n",
      "File \u001b[0;32m/home/dell1/anaconda3/envs/workenv/lib/python3.10/site-packages/tensorflow/python/util/traceback_utils.py:150\u001b[0m, in \u001b[0;36mfilter_traceback.<locals>.error_handler\u001b[0;34m(*args, **kwargs)\u001b[0m\n\u001b[1;32m    148\u001b[0m filtered_tb \u001b[39m=\u001b[39m \u001b[39mNone\u001b[39;00m\n\u001b[1;32m    149\u001b[0m \u001b[39mtry\u001b[39;00m:\n\u001b[0;32m--> 150\u001b[0m   \u001b[39mreturn\u001b[39;00m fn(\u001b[39m*\u001b[39;49margs, \u001b[39m*\u001b[39;49m\u001b[39m*\u001b[39;49mkwargs)\n\u001b[1;32m    151\u001b[0m \u001b[39mexcept\u001b[39;00m \u001b[39mException\u001b[39;00m \u001b[39mas\u001b[39;00m e:\n\u001b[1;32m    152\u001b[0m   filtered_tb \u001b[39m=\u001b[39m _process_traceback_frames(e\u001b[39m.\u001b[39m__traceback__)\n",
      "File \u001b[0;32m/home/dell1/anaconda3/envs/workenv/lib/python3.10/site-packages/tensorflow/python/eager/polymorphic_function/polymorphic_function.py:880\u001b[0m, in \u001b[0;36mFunction.__call__\u001b[0;34m(self, *args, **kwds)\u001b[0m\n\u001b[1;32m    877\u001b[0m compiler \u001b[39m=\u001b[39m \u001b[39m\"\u001b[39m\u001b[39mxla\u001b[39m\u001b[39m\"\u001b[39m \u001b[39mif\u001b[39;00m \u001b[39mself\u001b[39m\u001b[39m.\u001b[39m_jit_compile \u001b[39melse\u001b[39;00m \u001b[39m\"\u001b[39m\u001b[39mnonXla\u001b[39m\u001b[39m\"\u001b[39m\n\u001b[1;32m    879\u001b[0m \u001b[39mwith\u001b[39;00m OptionalXlaContext(\u001b[39mself\u001b[39m\u001b[39m.\u001b[39m_jit_compile):\n\u001b[0;32m--> 880\u001b[0m   result \u001b[39m=\u001b[39m \u001b[39mself\u001b[39;49m\u001b[39m.\u001b[39;49m_call(\u001b[39m*\u001b[39;49margs, \u001b[39m*\u001b[39;49m\u001b[39m*\u001b[39;49mkwds)\n\u001b[1;32m    882\u001b[0m new_tracing_count \u001b[39m=\u001b[39m \u001b[39mself\u001b[39m\u001b[39m.\u001b[39mexperimental_get_tracing_count()\n\u001b[1;32m    883\u001b[0m without_tracing \u001b[39m=\u001b[39m (tracing_count \u001b[39m==\u001b[39m new_tracing_count)\n",
      "File \u001b[0;32m/home/dell1/anaconda3/envs/workenv/lib/python3.10/site-packages/tensorflow/python/eager/polymorphic_function/polymorphic_function.py:912\u001b[0m, in \u001b[0;36mFunction._call\u001b[0;34m(self, *args, **kwds)\u001b[0m\n\u001b[1;32m    909\u001b[0m   \u001b[39mself\u001b[39m\u001b[39m.\u001b[39m_lock\u001b[39m.\u001b[39mrelease()\n\u001b[1;32m    910\u001b[0m   \u001b[39m# In this case we have created variables on the first call, so we run the\u001b[39;00m\n\u001b[1;32m    911\u001b[0m   \u001b[39m# defunned version which is guaranteed to never create variables.\u001b[39;00m\n\u001b[0;32m--> 912\u001b[0m   \u001b[39mreturn\u001b[39;00m \u001b[39mself\u001b[39;49m\u001b[39m.\u001b[39;49m_no_variable_creation_fn(\u001b[39m*\u001b[39;49margs, \u001b[39m*\u001b[39;49m\u001b[39m*\u001b[39;49mkwds)  \u001b[39m# pylint: disable=not-callable\u001b[39;00m\n\u001b[1;32m    913\u001b[0m \u001b[39melif\u001b[39;00m \u001b[39mself\u001b[39m\u001b[39m.\u001b[39m_variable_creation_fn \u001b[39mis\u001b[39;00m \u001b[39mnot\u001b[39;00m \u001b[39mNone\u001b[39;00m:\n\u001b[1;32m    914\u001b[0m   \u001b[39m# Release the lock early so that multiple threads can perform the call\u001b[39;00m\n\u001b[1;32m    915\u001b[0m   \u001b[39m# in parallel.\u001b[39;00m\n\u001b[1;32m    916\u001b[0m   \u001b[39mself\u001b[39m\u001b[39m.\u001b[39m_lock\u001b[39m.\u001b[39mrelease()\n",
      "File \u001b[0;32m/home/dell1/anaconda3/envs/workenv/lib/python3.10/site-packages/tensorflow/python/eager/polymorphic_function/tracing_compiler.py:134\u001b[0m, in \u001b[0;36mTracingCompiler.__call__\u001b[0;34m(self, *args, **kwargs)\u001b[0m\n\u001b[1;32m    131\u001b[0m \u001b[39mwith\u001b[39;00m \u001b[39mself\u001b[39m\u001b[39m.\u001b[39m_lock:\n\u001b[1;32m    132\u001b[0m   (concrete_function,\n\u001b[1;32m    133\u001b[0m    filtered_flat_args) \u001b[39m=\u001b[39m \u001b[39mself\u001b[39m\u001b[39m.\u001b[39m_maybe_define_function(args, kwargs)\n\u001b[0;32m--> 134\u001b[0m \u001b[39mreturn\u001b[39;00m concrete_function\u001b[39m.\u001b[39;49m_call_flat(\n\u001b[1;32m    135\u001b[0m     filtered_flat_args, captured_inputs\u001b[39m=\u001b[39;49mconcrete_function\u001b[39m.\u001b[39;49mcaptured_inputs)\n",
      "File \u001b[0;32m/home/dell1/anaconda3/envs/workenv/lib/python3.10/site-packages/tensorflow/python/eager/polymorphic_function/monomorphic_function.py:1745\u001b[0m, in \u001b[0;36mConcreteFunction._call_flat\u001b[0;34m(self, args, captured_inputs, cancellation_manager)\u001b[0m\n\u001b[1;32m   1741\u001b[0m possible_gradient_type \u001b[39m=\u001b[39m gradients_util\u001b[39m.\u001b[39mPossibleTapeGradientTypes(args)\n\u001b[1;32m   1742\u001b[0m \u001b[39mif\u001b[39;00m (possible_gradient_type \u001b[39m==\u001b[39m gradients_util\u001b[39m.\u001b[39mPOSSIBLE_GRADIENT_TYPES_NONE\n\u001b[1;32m   1743\u001b[0m     \u001b[39mand\u001b[39;00m executing_eagerly):\n\u001b[1;32m   1744\u001b[0m   \u001b[39m# No tape is watching; skip to running the function.\u001b[39;00m\n\u001b[0;32m-> 1745\u001b[0m   \u001b[39mreturn\u001b[39;00m \u001b[39mself\u001b[39m\u001b[39m.\u001b[39m_build_call_outputs(\u001b[39mself\u001b[39;49m\u001b[39m.\u001b[39;49m_inference_function\u001b[39m.\u001b[39;49mcall(\n\u001b[1;32m   1746\u001b[0m       ctx, args, cancellation_manager\u001b[39m=\u001b[39;49mcancellation_manager))\n\u001b[1;32m   1747\u001b[0m forward_backward \u001b[39m=\u001b[39m \u001b[39mself\u001b[39m\u001b[39m.\u001b[39m_select_forward_and_backward_functions(\n\u001b[1;32m   1748\u001b[0m     args,\n\u001b[1;32m   1749\u001b[0m     possible_gradient_type,\n\u001b[1;32m   1750\u001b[0m     executing_eagerly)\n\u001b[1;32m   1751\u001b[0m forward_function, args_with_tangents \u001b[39m=\u001b[39m forward_backward\u001b[39m.\u001b[39mforward()\n",
      "File \u001b[0;32m/home/dell1/anaconda3/envs/workenv/lib/python3.10/site-packages/tensorflow/python/eager/polymorphic_function/monomorphic_function.py:378\u001b[0m, in \u001b[0;36m_EagerDefinedFunction.call\u001b[0;34m(self, ctx, args, cancellation_manager)\u001b[0m\n\u001b[1;32m    376\u001b[0m \u001b[39mwith\u001b[39;00m _InterpolateFunctionError(\u001b[39mself\u001b[39m):\n\u001b[1;32m    377\u001b[0m   \u001b[39mif\u001b[39;00m cancellation_manager \u001b[39mis\u001b[39;00m \u001b[39mNone\u001b[39;00m:\n\u001b[0;32m--> 378\u001b[0m     outputs \u001b[39m=\u001b[39m execute\u001b[39m.\u001b[39;49mexecute(\n\u001b[1;32m    379\u001b[0m         \u001b[39mstr\u001b[39;49m(\u001b[39mself\u001b[39;49m\u001b[39m.\u001b[39;49msignature\u001b[39m.\u001b[39;49mname),\n\u001b[1;32m    380\u001b[0m         num_outputs\u001b[39m=\u001b[39;49m\u001b[39mself\u001b[39;49m\u001b[39m.\u001b[39;49m_num_outputs,\n\u001b[1;32m    381\u001b[0m         inputs\u001b[39m=\u001b[39;49margs,\n\u001b[1;32m    382\u001b[0m         attrs\u001b[39m=\u001b[39;49mattrs,\n\u001b[1;32m    383\u001b[0m         ctx\u001b[39m=\u001b[39;49mctx)\n\u001b[1;32m    384\u001b[0m   \u001b[39melse\u001b[39;00m:\n\u001b[1;32m    385\u001b[0m     outputs \u001b[39m=\u001b[39m execute\u001b[39m.\u001b[39mexecute_with_cancellation(\n\u001b[1;32m    386\u001b[0m         \u001b[39mstr\u001b[39m(\u001b[39mself\u001b[39m\u001b[39m.\u001b[39msignature\u001b[39m.\u001b[39mname),\n\u001b[1;32m    387\u001b[0m         num_outputs\u001b[39m=\u001b[39m\u001b[39mself\u001b[39m\u001b[39m.\u001b[39m_num_outputs,\n\u001b[0;32m   (...)\u001b[0m\n\u001b[1;32m    390\u001b[0m         ctx\u001b[39m=\u001b[39mctx,\n\u001b[1;32m    391\u001b[0m         cancellation_manager\u001b[39m=\u001b[39mcancellation_manager)\n",
      "File \u001b[0;32m/home/dell1/anaconda3/envs/workenv/lib/python3.10/site-packages/tensorflow/python/eager/execute.py:52\u001b[0m, in \u001b[0;36mquick_execute\u001b[0;34m(op_name, num_outputs, inputs, attrs, ctx, name)\u001b[0m\n\u001b[1;32m     50\u001b[0m \u001b[39mtry\u001b[39;00m:\n\u001b[1;32m     51\u001b[0m   ctx\u001b[39m.\u001b[39mensure_initialized()\n\u001b[0;32m---> 52\u001b[0m   tensors \u001b[39m=\u001b[39m pywrap_tfe\u001b[39m.\u001b[39;49mTFE_Py_Execute(ctx\u001b[39m.\u001b[39;49m_handle, device_name, op_name,\n\u001b[1;32m     53\u001b[0m                                       inputs, attrs, num_outputs)\n\u001b[1;32m     54\u001b[0m \u001b[39mexcept\u001b[39;00m core\u001b[39m.\u001b[39m_NotOkStatusException \u001b[39mas\u001b[39;00m e:\n\u001b[1;32m     55\u001b[0m   \u001b[39mif\u001b[39;00m name \u001b[39mis\u001b[39;00m \u001b[39mnot\u001b[39;00m \u001b[39mNone\u001b[39;00m:\n",
      "\u001b[0;31mKeyboardInterrupt\u001b[0m: "
     ]
    }
   ],
   "source": [
    "cp_callback = tf.keras.callbacks.ModelCheckpoint(filepath='/home/florian/projet/models/hb_weights/cp.cpkt',\n",
    "                                                 save_weights_only=True,\n",
    "                                                 verbose=1)\n",
    "model.fit(gen,validation_data=gen_valid,epochs=2,verbose=1, callbacks=[cp_callback])\n"
   ]
  },
  {
   "cell_type": "code",
   "execution_count": 54,
   "metadata": {},
   "outputs": [
    {
     "data": {
      "text/plain": [
       "<tensorflow.python.checkpoint.checkpoint.CheckpointLoadStatus at 0x7f71b5a97c70>"
      ]
     },
     "execution_count": 54,
     "metadata": {},
     "output_type": "execute_result"
    }
   ],
   "source": [
    "model.load_weights('/home/florian/projet/models/trained/cp.cpkt')\n",
    "model2.load_weights('/home/florian/projet/models/new_weighted_trained/cp.cpkt')"
   ]
  },
  {
   "cell_type": "code",
   "execution_count": 55,
   "metadata": {},
   "outputs": [],
   "source": [
    "#create dataset section\n",
    "start = 100_000\n",
    "stop = start + 100_000\n",
    "Ytrain_chr2L=val[start:stop]\n",
    "chr2L=np.load('/home/florian/projet/r6.16/seq.npz')['2L']\n",
    "Xtrain_chr2L=[]\n",
    "for i in range(start,stop):\n",
    "    Xtrain_chr2L.append(chr2L[i-1000:i+1001])\n",
    "Xtrain_chr2L = np.array(Xtrain_chr2L)\n"
   ]
  },
  {
   "cell_type": "code",
   "execution_count": null,
   "metadata": {},
   "outputs": [],
   "source": [
    "len(np.load('/home/florian/projet/r6.16/seq.npz')['2L'])"
   ]
  },
  {
   "cell_type": "code",
   "execution_count": null,
   "metadata": {},
   "outputs": [],
   "source": [
    "#pred with old weights\n",
    "pred=model.predict(x_valid, batch_size=1024) \n",
    "#pred with new weights\n",
    "pred2=model2.predict(x_valid, batch_size=1024)"
   ]
  },
  {
   "cell_type": "code",
   "execution_count": 61,
   "metadata": {},
   "outputs": [
    {
     "data": {
      "image/png": "[encoded data removed]",
      "text/plain": [
       "<Figure size 640x480 with 2 Axes>"
      ]
     },
     "metadata": {},
     "output_type": "display_data"
    }
   ],
   "source": [
    "#prediction plot\n",
    "plt.subplot(1,2,1)\n",
    "plt.plot(pred,alpha=0.5)\n",
    "plt.plot(y_valid,alpha=0.5)\n",
    "plt.xlim((20_000, 30_000))\n",
    "plt.subplot(1,2,2)\n",
    "plt.plot(pred2,alpha=0.5)\n",
    "plt.plot(y_valid,alpha=0.5)\n",
    "plt.xlim((20_000, 30_000))\n",
    "plt.show()"
   ]
  },
  {
   "cell_type": "code",
   "execution_count": 83,
   "metadata": {},
   "outputs": [
    {
     "data": {
      "text/plain": [
       "2.6301253497938612e-15"
      ]
     },
     "execution_count": 83,
     "metadata": {},
     "output_type": "execute_result"
    }
   ],
   "source": [
    "cor(Ytrain_chr2L[0:10000],pred[0:10000])"
   ]
  },
  {
   "cell_type": "code",
   "execution_count": 84,
   "metadata": {},
   "outputs": [
    {
     "data": {
      "text/plain": [
       "100000"
      ]
     },
     "execution_count": 84,
     "metadata": {},
     "output_type": "execute_result"
    }
   ],
   "source": [
    "len(Ytrain_chr2L)"
   ]
  },
  {
   "cell_type": "code",
   "execution_count": 105,
   "metadata": {},
   "outputs": [
    {
     "data": {
      "text/plain": [
       "(20000.0, 30000.0)"
      ]
     },
     "execution_count": 105,
     "metadata": {},
     "output_type": "execute_result"
    },
    {
     "data": {
      "image/png": "[encoded data removed]",
      "text/plain": [
       "<Figure size 640x480 with 1 Axes>"
      ]
     },
     "metadata": {},
     "output_type": "display_data"
    }
   ],
   "source": [
    "plt.plot(pred, alpha=0.5, linewidth=1)\n",
    "plt.plot(Ytrain_chr2L, alpha=0.5, linewidth=1)\n",
    "#plt.ylim((0, 0.1))\n",
    "plt.xlim((20_000, 30_000))"
   ]
  },
  {
   "cell_type": "code",
   "execution_count": 37,
   "metadata": {},
   "outputs": [
    {
     "name": "stdout",
     "output_type": "stream",
     "text": [
      "127122856\n",
      "4929055\n",
      "1639222\n",
      "881121\n",
      "582047\n",
      "424872\n",
      "325513\n",
      "251944\n",
      "194719\n",
      "139950\n"
     ]
    }
   ],
   "source": [
    "for i in range(10):\n",
    "    print(len(val[(0.1*i < val) & (val < 0.1*(i+1))]))\n",
    "np.where((0.1 < val) & (val < 0.2))#[0]"
   ]
  },
  {
   "cell_type": "code",
   "execution_count": 31,
   "metadata": {},
   "outputs": [
    {
     "data": {
      "text/plain": [
       "(array([      377,       378,       379, ..., 137547944, 137547945,\n",
       "        137547946]),)"
      ]
     },
     "execution_count": 31,
     "metadata": {},
     "output_type": "execute_result"
    }
   ],
   "source": [
    "np.where((0.1 < val) & (val < 0.2))#[0]"
   ]
  },
  {
   "cell_type": "code",
   "execution_count": 41,
   "metadata": {},
   "outputs": [
    {
     "data": {
      "text/plain": [
       "(1, 2001, 4)"
      ]
     },
     "execution_count": 41,
     "metadata": {},
     "output_type": "execute_result"
    }
   ],
   "source": [
    "np.concatenate((np.zeros((1, 2001, 3)), np.ones((1, 2001, 1))), axis=-1).shape"
   ]
  },
  {
   "cell_type": "code",
   "execution_count": null,
   "metadata": {},
   "outputs": [],
   "source": []
  }
 ],
 "metadata": {
  "kernelspec": {
   "display_name": "workenv",
   "language": "python",
   "name": "python3"
  },
  "language_info": {
   "codemirror_mode": {
    "name": "ipython",
    "version": 3
   },
   "file_extension": ".py",
   "mimetype": "text/x-python",
   "name": "python",
   "nbconvert_exporter": "python",
   "pygments_lexer": "ipython3",
   "version": "3.10.8"
  },
  "orig_nbformat": 4,
  "vscode": {
   "interpreter": {
    "hash": "54b32c772bcf61fae46e7af2b7d10938df86a90a9000f73addfa04648299b89c"
   }
  }
 },
 "nbformat": 4,
 "nbformat_minor": 2
}
