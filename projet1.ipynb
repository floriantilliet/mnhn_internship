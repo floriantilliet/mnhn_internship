{
 "cells": [
  {
   "cell_type": "code",
   "execution_count": 48,
   "metadata": {},
   "outputs": [],
   "source": [
    "import re\n",
    "import os\n",
    "import tensorflow as tf\n",
    "import matplotlib.pyplot as plt\n",
    "import pyBigWig as pbg\n",
    "import numpy as np\n",
    "import scipy as sp\n",
    "import matplotlib.pyplot as plt\n",
    "import scipy.stats\n",
    "from scipy import sparse"
   ]
  },
  {
   "cell_type": "code",
   "execution_count": 43,
   "metadata": {},
   "outputs": [
    {
     "data": {
      "text/plain": [
       "[1.0, 0.0, 0.0, 0.0]"
      ]
     },
     "execution_count": 43,
     "metadata": {},
     "output_type": "execute_result"
    }
   ],
   "source": [
    "def ohe(seq):\n",
    "    seq2=list()\n",
    "    mapping = {\"A\":[1., 0., 0., 0.], \"C\": [0., 1., 0., 0.], \"G\": [1., 0., 0., 0.], \"T\":[0., 0., 0., 1.]}\n",
    "    for i in seq:\n",
    "      seq2.append(mapping[i]  if i in mapping.keys() else [0., 0., 0., 0.]) \n",
    "    return np.array(seq2)"
   ]
  },
  {
   "cell_type": "code",
   "execution_count": 5,
   "metadata": {},
   "outputs": [],
   "source": [
    "#fasta to ohe\n",
    "f=open('/home/florian/projet/r6.16/dmel-all-chromosome-r6.16.fasta','r')\n",
    "os.chdir('/home/florian/projet/r6.16')\n",
    "chr_name = str()\n",
    "seq=[]\n",
    "D={}\n",
    "for line in f:\n",
    "        line = line.rstrip()\n",
    "        if line[0] == '>':\n",
    "                if line[1:3]==\"2C\":\n",
    "                        break\n",
    "                if seq != []:\n",
    "                        D[chr_name]=ohe(seq)\n",
    "                chr_name = line[1:3]\n",
    "                seq = []\n",
    "        else:\n",
    "                seq += line\n",
    "D[\"Y\"]=ohe(seq)\n",
    "np.savez_compressed('seq',**D)"
   ]
  },
  {
   "cell_type": "code",
   "execution_count": 36,
   "metadata": {},
   "outputs": [
    {
     "name": "stdout",
     "output_type": "stream",
     "text": [
      "processing file unk_18b.dedup.no_blacklist.RPGCnormalized.bw\n",
      "processing file unk_03.dedup.no_blacklist.RPGCnormalized.bw\n",
      "processing file unk_10b.dedup.no_blacklist.RPGCnormalized.bw\n",
      "processing file unk_07.dedup.no_blacklist.RPGCnormalized.bw\n",
      "processing file unk_04c.dedup.no_blacklist.RPGCnormalized.bw\n",
      "processing file unk_13.dedup.no_blacklist.RPGCnormalized.bw\n",
      "processing file Ensheathingglia.dedup.no_blacklist.RPGCnormalized.bw\n",
      "processing file unk_10f.dedup.no_blacklist.RPGCnormalized.bw\n",
      "processing file 26.dedup.no_blacklist.RPGCnormalized.bw\n",
      "processing file unk_17d.dedup.no_blacklist.RPGCnormalized.bw\n",
      "processing file T5.dedup.no_blacklist.RPGCnormalized.bw\n",
      "processing file T2a.dedup.no_blacklist.RPGCnormalized.bw\n",
      "processing file Mi9.dedup.no_blacklist.RPGCnormalized.bw\n",
      "processing file Tm9.dedup.no_blacklist.RPGCnormalized.bw\n",
      "processing file Tm3.dedup.no_blacklist.RPGCnormalized.bw\n",
      "processing file unk_17c.dedup.no_blacklist.RPGCnormalized.bw\n",
      "processing file PB4_5.dedup.no_blacklist.RPGCnormalized.bw\n",
      "processing file KC_G.dedup.no_blacklist.RPGCnormalized.bw\n",
      "processing file Dm8_Dm11.dedup.no_blacklist.RPGCnormalized.bw\n",
      "processing file KC_AB.dedup.no_blacklist.RPGCnormalized.bw\n",
      "processing file Dm3.dedup.no_blacklist.RPGCnormalized.bw\n",
      "processing file C2.dedup.no_blacklist.RPGCnormalized.bw\n",
      "processing file unk_10g.dedup.no_blacklist.RPGCnormalized.bw\n",
      "processing file unk_10a.dedup.no_blacklist.RPGCnormalized.bw\n",
      "processing file unk_17b.dedup.no_blacklist.RPGCnormalized.bw\n",
      "processing file unk_10e.dedup.no_blacklist.RPGCnormalized.bw\n",
      "processing file T3.dedup.no_blacklist.RPGCnormalized.bw\n",
      "processing file NotAssigned.dedup.no_blacklist.RPGCnormalized.bw\n",
      "processing file unk_06.dedup.no_blacklist.RPGCnormalized.bw\n",
      "processing file Tm1_TmY8.dedup.no_blacklist.RPGCnormalized.bw\n",
      "processing file unk_19b.dedup.no_blacklist.RPGCnormalized.bw\n",
      "processing file T2.dedup.no_blacklist.RPGCnormalized.bw\n",
      "processing file unk_19a.dedup.no_blacklist.RPGCnormalized.bw\n",
      "processing file Tm20.dedup.no_blacklist.RPGCnormalized.bw\n",
      "processing file unk_15a.dedup.no_blacklist.RPGCnormalized.bw\n",
      "processing file 90.dedup.no_blacklist.RPGCnormalized.bw\n",
      "processing file unk_01.dedup.no_blacklist.RPGCnormalized.bw\n",
      "processing file Plasmatocytes.dedup.no_blacklist.RPGCnormalized.bw\n",
      "processing file 97.dedup.no_blacklist.RPGCnormalized.bw\n",
      "processing file Astrocyte_like.dedup.no_blacklist.RPGCnormalized.bw\n",
      "processing file unk_16c.dedup.no_blacklist.RPGCnormalized.bw\n",
      "processing file unk_16b.dedup.no_blacklist.RPGCnormalized.bw\n",
      "processing file unk_16a.dedup.no_blacklist.RPGCnormalized.bw\n",
      "processing file unk_05.dedup.no_blacklist.RPGCnormalized.bw\n",
      "processing file unk_11.dedup.no_blacklist.RPGCnormalized.bw\n",
      "processing file LLPC1.dedup.no_blacklist.RPGCnormalized.bw\n",
      "processing file Pm4.dedup.no_blacklist.RPGCnormalized.bw\n",
      "processing file RNA_31.dedup.no_blacklist.RPGCnormalized.bw\n",
      "processing file Perineurialglia.dedup.no_blacklist.RPGCnormalized.bw\n",
      "processing file Chiasmglia.dedup.no_blacklist.RPGCnormalized.bw\n",
      "processing file Cortexglia.dedup.no_blacklist.RPGCnormalized.bw\n",
      "processing file 98.dedup.no_blacklist.RPGCnormalized.bw\n",
      "processing file 15a.dedup.no_blacklist.RPGCnormalized.bw\n",
      "processing file C3.dedup.no_blacklist.RPGCnormalized.bw\n",
      "processing file 15b.dedup.no_blacklist.RPGCnormalized.bw\n",
      "processing file unk_18c.dedup.no_blacklist.RPGCnormalized.bw\n",
      "processing file Tm4.dedup.no_blacklist.RPGCnormalized.bw\n",
      "processing file unk_04a.dedup.no_blacklist.RPGCnormalized.bw\n",
      "processing file Subperineurialglia.dedup.no_blacklist.RPGCnormalized.bw\n",
      "processing file T4.dedup.no_blacklist.RPGCnormalized.bw\n",
      "processing file Mi15.dedup.no_blacklist.RPGCnormalized.bw\n",
      "processing file KC_ABp.dedup.no_blacklist.RPGCnormalized.bw\n",
      "processing file unk_10d.dedup.no_blacklist.RPGCnormalized.bw\n",
      "processing file Mi1.dedup.no_blacklist.RPGCnormalized.bw\n",
      "processing file unk_14.dedup.no_blacklist.RPGCnormalized.bw\n",
      "processing file unk_10c.dedup.no_blacklist.RPGCnormalized.bw\n",
      "processing file Photoreceptors.dedup.no_blacklist.RPGCnormalized.bw\n",
      "processing file Poxn.dedup.no_blacklist.RPGCnormalized.bw\n",
      "processing file unk_12.dedup.no_blacklist.RPGCnormalized.bw\n",
      "processing file TmY5a.dedup.no_blacklist.RPGCnormalized.bw\n",
      "processing file unk_18a.dedup.no_blacklist.RPGCnormalized.bw\n",
      "processing file unk_15b.dedup.no_blacklist.RPGCnormalized.bw\n",
      "processing file TmY3.dedup.no_blacklist.RPGCnormalized.bw\n",
      "processing file T1.dedup.no_blacklist.RPGCnormalized.bw\n",
      "processing file unk_04b.dedup.no_blacklist.RPGCnormalized.bw\n",
      "processing file unk_17a.dedup.no_blacklist.RPGCnormalized.bw\n",
      "processing file CBDevelopingneuron1.dedup.no_blacklist.RPGCnormalized.bw\n",
      "processing file L2_L3.dedup.no_blacklist.RPGCnormalized.bw\n",
      "processing file unk_02.dedup.no_blacklist.RPGCnormalized.bw\n",
      "processing file Tm2.dedup.no_blacklist.RPGCnormalized.bw\n",
      "processing file unk_18d.dedup.no_blacklist.RPGCnormalized.bw\n"
     ]
    }
   ],
   "source": [
    "#bigwig to numpy\n",
    "os.chdir('/home/florian/projet/scATACseq')\n",
    "fichiers=os.listdir('/home/florian/projet/scATACseq')\n",
    "valeurs, mins, maxs = [], [], []\n",
    "for file in fichiers:\n",
    "    print(\"processing file\", file)\n",
    "    bw=pbg.open(file)\n",
    "    array = np.concatenate((bw.values(\"2L\",0,-1,numpy=True),bw.values(\"2R\",0,-1,numpy=True),bw.values(\"3R\",0,-1,numpy=True),bw.values(\"3L\",0,-1,numpy=True),bw.values(\"4\",0,-1,numpy=True),bw.values(\"X\",0,-1,numpy=True),bw.values(\"Y\",0,-1,numpy=True)))\n",
    "    mins.append(array.min())\n",
    "    maxs.append(array.max())\n",
    "    if len(valeurs) == 0:\n",
    "        valeurs = array\n",
    "    else:\n",
    "        valeurs += array\n"
   ]
  },
  {
   "cell_type": "code",
   "execution_count": 39,
   "metadata": {},
   "outputs": [
    {
     "data": {
      "image/png": "[encoded data removed]",
      "text/plain": [
       "<Figure size 500x400 with 1 Axes>"
      ]
     },
     "metadata": {},
     "output_type": "display_data"
    }
   ],
   "source": [
    "plt.figure(figsize=(5,4))\n",
    "plt.hist(val,bins=500, density=True)\n",
    "plt.title(\"densité\")\n",
    "#plt.xscale('log')\n",
    "#plt.yscale('log')\n",
    "plt.show()"
   ]
  },
  {
   "cell_type": "code",
   "execution_count": 40,
   "metadata": {},
   "outputs": [
    {
     "data": {
      "text/plain": [
       "[<matplotlib.lines.Line2D at 0x7fc251bcd330>]"
      ]
     },
     "execution_count": 40,
     "metadata": {},
     "output_type": "execute_result"
    },
    {
     "data": {
      "image/png": "[encoded data removed]",
      "text/plain": [
       "<Figure size 640x480 with 1 Axes>"
      ]
     },
     "metadata": {},
     "output_type": "display_data"
    }
   ],
   "source": [
    "plt.plot((val[1000000:1100000]))"
   ]
  },
  {
   "cell_type": "code",
   "execution_count": 37,
   "metadata": {},
   "outputs": [
    {
     "data": {
      "text/plain": [
       "8576.312"
      ]
     },
     "execution_count": 37,
     "metadata": {},
     "output_type": "execute_result"
    }
   ],
   "source": [
    "val=np.copy(valeurs)\n",
    "val[val >= 2000] = 2000\n",
    "val=val/2000\n",
    "max(val)\n",
    "max(valeurs)\n"
   ]
  },
  {
   "cell_type": "code",
   "execution_count": 20,
   "metadata": {},
   "outputs": [
    {
     "data": {
      "text/plain": [
       "array([4, 3, 2, 1, 0])"
      ]
     },
     "execution_count": 20,
     "metadata": {},
     "output_type": "execute_result"
    }
   ],
   "source": [
    "np.arange(10)[4::-1]"
   ]
  },
  {
   "cell_type": "code",
   "execution_count": 11,
   "metadata": {},
   "outputs": [],
   "source": [
    "#bigwig to sparse\n",
    "os.chdir('/home/florian/projet/scATACseq')\n",
    "fichiers=os.listdir('/home/florian/projet/scATACseq')\n",
    "values=[]\n",
    "for file in fichiers:\n",
    "    bw=pbg.open(file)\n",
    "    array=np.concatenate((bw.values(\"4\",0,-1,numpy=True),bw.values(\"X\",0,-1,numpy=True),bw.values(\"Y\",0,-1,numpy=True),bw.values(\"2L\",0,-1,numpy=True),bw.values(\"2R\",0,-1,numpy=True),bw.values(\"3L\",0,-1,numpy=True),bw.values(\"3R\",0,-1,numpy=True)))\n",
    "    values.append(sparse.csr_matrix(array))\n"
   ]
  },
  {
   "cell_type": "code",
   "execution_count": 59,
   "metadata": {},
   "outputs": [],
   "source": [
    "#modèle\n",
    "\n",
    "model = tf.keras.models.Sequential([\n",
    "    tf.keras.layers.Conv1D(128, kernel_size=(6), activation='relu', input_shape=(2001,4)),\n",
    "    tf.keras.layers.MaxPooling1D(pool_size=(12)),\n",
    "    tf.keras.layers.Conv1D(64, kernel_size=(12), activation='relu'),\n",
    "    #tf.keras.layers.MaxPooling1D(pool_size=(12)),\n",
    "    tf.keras.layers.Dense(128, activation='relu'),\n",
    "    tf.keras.layers.Dense(1, activation='softmax')\n",
    "    ])\n",
    "\n",
    "loss_fn = tf.keras.losses.SparseCategoricalCrossentropy(from_logits=True)\n",
    "\n",
    "model.compile(loss=loss_fn,\n",
    "    optimizer='adam',\n",
    "    metrics=['accuracy'])"
   ]
  },
  {
   "cell_type": "code",
   "execution_count": null,
   "metadata": {},
   "outputs": [],
   "source": []
  }
 ],
 "metadata": {
  "kernelspec": {
   "display_name": "workenv",
   "language": "python",
   "name": "python3"
  },
  "language_info": {
   "codemirror_mode": {
    "name": "ipython",
    "version": 3
   },
   "file_extension": ".py",
   "mimetype": "text/x-python",
   "name": "python",
   "nbconvert_exporter": "python",
   "pygments_lexer": "ipython3",
   "version": "3.10.8"
  },
  "orig_nbformat": 4,
  "vscode": {
   "interpreter": {
    "hash": "54b32c772bcf61fae46e7af2b7d10938df86a90a9000f73addfa04648299b89c"
   }
  }
 },
 "nbformat": 4,
 "nbformat_minor": 2
}
