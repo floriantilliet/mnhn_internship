{
 "cells": [
  {
   "cell_type": "code",
   "execution_count": 3,
   "metadata": {},
   "outputs": [],
   "source": [
    "#import libraries\n",
    "import os\n",
    "import random as rd\n",
    "import tensorflow as tf\n",
    "import matplotlib.pyplot as plt\n",
    "import pyBigWig as pbg\n",
    "import numpy as np\n",
    "import scipy as sp\n",
    "import matplotlib.pyplot as plt\n",
    "import scipy.stats\n",
    "import pandas as pd\n",
    "import matplotlib as mpl\n",
    "import keras.backend as K\n",
    "from keras.models import load_model\n",
    "from tensorflow import keras"
   ]
  },
  {
   "cell_type": "code",
   "execution_count": 4,
   "metadata": {},
   "outputs": [],
   "source": [
    "#load all chrs\n",
    "with np.load('/home/florian/projet/r6.16/seq.npz') as f:\n",
    "    X_2L = f['2L']\n",
    "    X_2R = f['2R']\n",
    "    X_3L = f['3L']\n",
    "    X_3R = f['3R']\n",
    "    X_4 = f['4']\n",
    "    X_X = f['X']\n",
    "    X_Y = f['Y']"
   ]
  },
  {
   "cell_type": "code",
   "execution_count": null,
   "metadata": {},
   "outputs": [],
   "source": [
    "#bw to np\n",
    "os.chdir('/home/florian/projet/cell_types')\n",
    "folder=['Astrocyte_like.dedup.no_blacklist.RPGCnormalized.bw',\n",
    "        'Cortexglia.dedup.no_blacklist.RPGCnormalized.bw',\n",
    "        'Ensheathingglia.dedup.no_blacklist.RPGCnormalized.bw',\n",
    "        'Perineurialglia.dedup.no_blacklist.RPGCnormalized.bw',\n",
    "        'Subperineurialglia.dedup.no_blacklist.RPGCnormalized.bw',\n",
    "        'T1.dedup.no_blacklist.RPGCnormalized.bw',\n",
    "        'T2.dedup.no_blacklist.RPGCnormalized.bw',\n",
    "        'T2a.dedup.no_blacklist.RPGCnormalized.bw',\n",
    "        'T3.dedup.no_blacklist.RPGCnormalized.bw',\n",
    "        'T4.dedup.no_blacklist.RPGCnormalized.bw',\n",
    "        'T5.dedup.no_blacklist.RPGCnormalized.bw',\n",
    "        'KC_AB.dedup.no_blacklist.RPGCnormalized.bw',\n",
    "        'KC_ABp.dedup.no_blacklist.RPGCnormalized.bw',\n",
    "        'KC_G.dedup.no_blacklist.RPGCnormalized.bw']\n",
    "for cell in folder:\n",
    "    fichiers=[cell]\n",
    "    valeurs =[]\n",
    "    Dic={}\n",
    "    chr=[\"2L\",\"2R\",\"3L\",\"3R\",\"4\",\"X\",\"Y\"]\n",
    "    lens=[len(X_2L),len(X_2R),len(X_3L),len(X_3R),len(X_4),len(X_X),len(X_Y)]\n",
    "    for i in range(len(chr)):\n",
    "        Dic[chr[i]]=np.zeros((1,lens[i]))\n",
    "    for file in fichiers:\n",
    "        bw=pbg.open('/home/florian/projet/scATACseq/'+file)\n",
    "        array = np.array(())\n",
    "    for j in chr:\n",
    "        Dic[j]=Dic[j]+bw.values(j,0,-1,numpy=True)\n",
    "\n",
    "    os.chdir('/home/florian/projet/cell_types')\n",
    "    np.savez_compressed('scATACseq_{}'.format(cell),**Dic)"
   ]
  },
  {
   "cell_type": "code",
   "execution_count": 1,
   "metadata": {},
   "outputs": [],
   "source": [
    "#one hot sequencing function\n",
    "def ohe(seq):\n",
    "    seq2=list()\n",
    "    mapping = {\"A\":[1, 0, 0, 0],\"C\": [0, 1, 0, 0],\"G\":[0, 0, 1, 0],\"T\":[0, 0, 0, 1]}\n",
    "    for i in seq:\n",
    "      seq2.append(mapping[i.upper()] if i.upper() in mapping.keys() else [0, 0, 0, 0]) \n",
    "    return np.array(seq2)"
   ]
  },
  {
   "cell_type": "code",
   "execution_count": 19,
   "metadata": {},
   "outputs": [],
   "source": [
    "#one hot decoding function\n",
    "def ohd(seq):\n",
    "    seq2=list()\n",
    "    mapping = {\"[1 0 0 0]\":\"A\", \"[0 1 0 0]\":\"C\", \"[0 0 1 0]\":\"G\", \"[0 0 0 1]\":\"T\"}\n",
    "    for i in seq:\n",
    "        seq2.append(mapping[str(i)] if str(i) in mapping.keys() else \"x\")\n",
    "    return ''.join(seq2)"
   ]
  },
  {
   "cell_type": "code",
   "execution_count": 14,
   "metadata": {},
   "outputs": [],
   "source": [
    "#fasta to ohe numpy\n",
    "f=open('/home/florian/projet/drosoSYNTH/chr4_SynEC_UAS_TATA-yeGFP-NLS.fa','r')\n",
    "os.chdir('/home/florian/projet/drosoSYNTH')\n",
    "chr_name = str()\n",
    "seq=[]\n",
    "D={}\n",
    "for line in f:\n",
    "        line = line.rstrip()\n",
    "        if line[0] == '>':\n",
    "                if seq != []:\n",
    "                        D[chr_name]=ohe(seq)\n",
    "                chr_name = line[1:5].strip()\n",
    "                seq = []\n",
    "        else:\n",
    "                seq += line\n",
    "#D[chr_name]=ohe(seq) #if one line only\n",
    "np.savez_compressed('seqTATA',**D)"
   ]
  },
  {
   "cell_type": "code",
   "execution_count": 8,
   "metadata": {},
   "outputs": [
    {
     "name": "stdout",
     "output_type": "stream",
     "text": [
      "252221\n",
      "844051\n",
      "341087\n",
      "1575129\n",
      "572496\n",
      "277781\n",
      "1092105\n",
      "564939\n",
      "430780\n",
      "762303\n",
      "683383\n",
      "1084257\n",
      "929095\n",
      "793416\n",
      "1108329\n",
      "986200\n"
     ]
    }
   ],
   "source": [
    "for i in [\"01\",\"02\",\"03\",\"04\",\"05\",\"06\",\"07\",\"08\",\"09\",\"10\",\"11\",\"12\",\"13\",\"14\",\"15\",\"16\"]:\n",
    "    print(len(np.load('/home/florian/projet/W303/seq.npz')['chr{}'.format(i)]))"
   ]
  },
  {
   "cell_type": "code",
   "execution_count": 13,
   "metadata": {},
   "outputs": [],
   "source": [
    "a=np.load('/home/florian/clipped99_MNase.npz')"
   ]
  },
  {
   "cell_type": "code",
   "execution_count": 14,
   "metadata": {},
   "outputs": [
    {
     "data": {
      "text/plain": [
       "['chr01',\n",
       " 'chr02',\n",
       " 'chr03',\n",
       " 'chr04',\n",
       " 'chr05',\n",
       " 'chr06',\n",
       " 'chr07',\n",
       " 'chr08',\n",
       " 'chr09',\n",
       " 'chr10',\n",
       " 'chr11',\n",
       " 'chr12',\n",
       " 'chr13',\n",
       " 'chr14',\n",
       " 'chr15',\n",
       " 'chr16']"
      ]
     },
     "execution_count": 14,
     "metadata": {},
     "output_type": "execute_result"
    }
   ],
   "source": [
    "a.files"
   ]
  },
  {
   "cell_type": "code",
   "execution_count": 56,
   "metadata": {},
   "outputs": [],
   "source": [
    "dicX = {}\n",
    "with np.load('/home/florian/projet/W303/seq.npz') as f:\n",
    "    for i in [\"01\",\"02\",\"03\",\"04\",\"05\",\"06\",\"07\",\"08\",\"09\",\"10\",\"11\",\"12\",\"13\",\"14\",\"15\",\"16\"]:\n",
    "        dicX['X_{}'.format(i)]=f['chr{}'.format(i)]"
   ]
  },
  {
   "cell_type": "code",
   "execution_count": 25,
   "metadata": {},
   "outputs": [],
   "source": [
    "X_4_TATA=np.load('/home/florian/projet/drosoSYNTH/seqTATA.npz')['chr4']\n",
    "X_4_100=np.load('/home/florian/projet/drosoSYNTH/seq100.npz')['chr4']"
   ]
  },
  {
   "cell_type": "code",
   "execution_count": 45,
   "metadata": {},
   "outputs": [
    {
     "data": {
      "text/plain": [
       "(133867, 125243)"
      ]
     },
     "execution_count": 45,
     "metadata": {},
     "output_type": "execute_result"
    }
   ],
   "source": [
    "len(X_4_100),len(X_4_TATA)"
   ]
  },
  {
   "cell_type": "code",
   "execution_count": 46,
   "metadata": {},
   "outputs": [],
   "source": [
    "model_name='new_cut_weightless'\n",
    "model2 = load_model('/home/florian/projet/models/'+ model_name +'/'+ model_name+ '.h5', compile=False)"
   ]
  },
  {
   "cell_type": "code",
   "execution_count": 47,
   "metadata": {},
   "outputs": [],
   "source": [
    "class MyPredSequence(tf.keras.utils.Sequence):\n",
    "\n",
    "    def __init__(self, x_set, batch_size, WINDOW=2001):\n",
    "        self.x = x_set\n",
    "        self.batch_size = batch_size\n",
    "        self.WINDOW = WINDOW\n",
    "        self.indices = np.arange(len(self.x))\n",
    "        self.indices=self.indices[self.WINDOW//2:len(self.x)-self.WINDOW//2 -1][::10]\n",
    "\n",
    "    def __len__(self):\n",
    "        return int(np.ceil(len(self.indices) / self.batch_size))\n",
    "\n",
    "    def __getitem__(self, idx):\n",
    "        batch_indices = self.indices[idx*self.batch_size:(idx+1)*self.batch_size]\n",
    "        window_indices = batch_indices.reshape(-1, 1) + np.arange(-(self.WINDOW//2), self.WINDOW//2 + 1).reshape(1, -1)\n",
    "        batch_x = self.x[window_indices]\n",
    "        return batch_x"
   ]
  },
  {
   "cell_type": "code",
   "execution_count": 48,
   "metadata": {},
   "outputs": [],
   "source": [
    "X_chr4_TATA=MyPredSequence(X_4_TATA,256)\n",
    "X_chr4_100=MyPredSequence(X_4_100,256)"
   ]
  },
  {
   "cell_type": "code",
   "execution_count": null,
   "metadata": {},
   "outputs": [],
   "source": [
    "preds={}\n",
    "preds['predTATA']=np.concatenate((np.zeros(100),model2.predict(X_chr4_TATA,batch_size=256).ravel(),np.zeros(100)))\n",
    "preds['pred100']=np.concatenate((np.zeros(100),model2.predict(X_chr4_100,batch_size=256).ravel(),np.zeros(100)))"
   ]
  },
  {
   "cell_type": "code",
   "execution_count": 34,
   "metadata": {},
   "outputs": [],
   "source": [
    "os.chdir('/home/florian/projet/drosoSYNTH')\n",
    "np.savez_compressed('preds_droso_synth',**preds)"
   ]
  },
  {
   "cell_type": "code",
   "execution_count": 14,
   "metadata": {},
   "outputs": [
    {
     "data": {
      "text/plain": [
       "'Ensheathingglia'"
      ]
     },
     "execution_count": 14,
     "metadata": {},
     "output_type": "execute_result"
    }
   ],
   "source": [
    "files = os.listdir('/home/florian/projet/cell_types')\n",
    "files[3][10:-41]"
   ]
  },
  {
   "cell_type": "code",
   "execution_count": 125,
   "metadata": {},
   "outputs": [],
   "source": [
    "files = os.listdir('/home/florian/projet/cell_types')\n",
    "os.chdir('/home/florian/projet/cell_types')\n",
    "D={}\n",
    "chr=['2L','2R','3L','3R','4','X','Y']\n",
    "for file in files:\n",
    "    D[file[10:-41]]=np.load(file)"
   ]
  },
  {
   "cell_type": "code",
   "execution_count": 127,
   "metadata": {},
   "outputs": [],
   "source": [
    "files = os.listdir('/home/florian/projet/cell_types')\n",
    "os.chdir('/home/florian/projet/cell_types')\n",
    "D={}\n",
    "chr=['2L','2R','3L','3R','4','X','Y']\n",
    "for file in files:\n",
    "    D[file[10:-41]]=sum([np.load(file)[i][0].sum() for i in chr])"
   ]
  },
  {
   "cell_type": "code",
   "execution_count": 131,
   "metadata": {},
   "outputs": [
    {
     "name": "stdout",
     "output_type": "stream",
     "text": [
      "signal = 128972937.85041845 on T3\n",
      "signal = 127976492.61683974 on KC_AB\n",
      "signal = 130618559.96108389 on T1\n",
      "signal = 131536214.65668955 on Ensheathingglia\n",
      "signal = 129345106.60672629 on T2\n",
      "signal = 128356589.90209869 on KC_G\n",
      "signal = 129227740.78160042 on KC_ABp\n",
      "signal = 129197244.80437791 on T5\n",
      "signal = 129003451.06918658 on T4\n",
      "signal = 129451703.74496955 on T2a\n",
      "signal = 132222184.19734281 on Cortexglia\n",
      "signal = 131163663.9348709 on Astrocyte_like\n",
      "signal = 130330790.60432589 on Perineurialglia\n",
      "signal = 133767980.01546648 on Subperineurialglia\n"
     ]
    },
    {
     "ename": "",
     "evalue": "",
     "output_type": "error",
     "traceback": [
      "\u001b[1;31mThe Kernel crashed while executing code in the the current cell or a previous cell. Please review the code in the cell(s) to identify a possible cause of the failure. Click <a href='https://aka.ms/vscodeJupyterKernelCrash'>here</a> for more info. View Jupyter <a href='command:jupyter.viewOutput'>log</a> for further details."
     ]
    }
   ],
   "source": [
    "for file in files:\n",
    "    print('signal = '+ str(D[file[10:-41]])+' on '+ file[10:-41])"
   ]
  },
  {
   "cell_type": "code",
   "execution_count": null,
   "metadata": {},
   "outputs": [],
   "source": [
    "import csv\n",
    "os.chdir('/home/florian/projet/scATACseq')\n",
    "folder=os.listdir('/home/florian/projet/scATACseq')\n",
    "chr=[\"2L\",\"2R\",\"3L\",\"3R\",\"4\",\"X\",\"Y\"]\n",
    "for j in chr:\n",
    "    my_np1=[]\n",
    "    for cell in folder:\n",
    "        bw=pbg.open(cell)\n",
    "        arr=(bw.values(j,0,-1,numpy=True))\n",
    "        my_np1.append(arr.astype(dtype='float16')[::10])\n",
    "    my_pd=pd.DataFrame(my_np1,dtype='float16').T\n",
    "    my_pd.columns=[i[:-len('.dedup.no_blacklist.RPGCnormalized.bw')] for i in folder]\n",
    "    csv_file = 'signaux{}.csv'.format(j)\n",
    "    with open(csv_file, mode='w') as f:\n",
    "        my_pd.to_csv(f)"
   ]
  },
  {
   "cell_type": "code",
   "execution_count": 112,
   "metadata": {},
   "outputs": [],
   "source": [
    "arrs = [np.random.rand(10000) for i in range(100)]"
   ]
  },
  {
   "cell_type": "code",
   "execution_count": 113,
   "metadata": {},
   "outputs": [
    {
     "name": "stdout",
     "output_type": "stream",
     "text": [
      "209 µs ± 406 ns per loop (mean ± std. dev. of 7 runs, 1,000 loops each)\n"
     ]
    }
   ],
   "source": [
    "%%timeit\n",
    "np.sum([arr.sum() for arr in arrs])"
   ]
  },
  {
   "cell_type": "code",
   "execution_count": 114,
   "metadata": {},
   "outputs": [
    {
     "name": "stdout",
     "output_type": "stream",
     "text": [
      "418 µs ± 2.13 µs per loop (mean ± std. dev. of 7 runs, 1,000 loops each)\n"
     ]
    }
   ],
   "source": [
    "%%timeit\n",
    "np.sum(np.concatenate(arrs))"
   ]
  },
  {
   "cell_type": "code",
   "execution_count": 4,
   "metadata": {},
   "outputs": [],
   "source": [
    "with np.load('/home/florian/projet/r6.16/seq.npz') as f:\n",
    "    X_2L = f['2L']\n"
   ]
  },
  {
   "cell_type": "code",
   "execution_count": 6,
   "metadata": {},
   "outputs": [
    {
     "data": {
      "text/plain": [
       "(23513712, 4)"
      ]
     },
     "execution_count": 6,
     "metadata": {},
     "output_type": "execute_result"
    }
   ],
   "source": [
    "X_2L.shape"
   ]
  },
  {
   "cell_type": "code",
   "execution_count": null,
   "metadata": {},
   "outputs": [],
   "source": []
  }
 ],
 "metadata": {
  "kernelspec": {
   "display_name": "workenv",
   "language": "python",
   "name": "python3"
  },
  "language_info": {
   "codemirror_mode": {
    "name": "ipython",
    "version": 3
   },
   "file_extension": ".py",
   "mimetype": "text/x-python",
   "name": "python",
   "nbconvert_exporter": "python",
   "pygments_lexer": "ipython3",
   "version": "3.10.9"
  },
  "orig_nbformat": 4,
  "vscode": {
   "interpreter": {
    "hash": "31630f766c371ce3d9f9481e86efb9338468fe692bd18c62142384c30b83e8be"
   }
  }
 },
 "nbformat": 4,
 "nbformat_minor": 2
}
