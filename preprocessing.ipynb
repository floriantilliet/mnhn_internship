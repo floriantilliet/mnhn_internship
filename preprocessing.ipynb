{
 "cells": [
  {
   "cell_type": "code",
   "execution_count": 3,
   "metadata": {},
   "outputs": [
    {
     "name": "stderr",
     "output_type": "stream",
     "text": [
      "2023-03-27 13:52:31.231423: I tensorflow/core/platform/cpu_feature_guard.cc:193] This TensorFlow binary is optimized with oneAPI Deep Neural Network Library (oneDNN) to use the following CPU instructions in performance-critical operations:  AVX2 AVX_VNNI FMA\n",
      "To enable them in other operations, rebuild TensorFlow with the appropriate compiler flags.\n",
      "2023-03-27 13:52:31.291160: I tensorflow/core/util/port.cc:104] oneDNN custom operations are on. You may see slightly different numerical results due to floating-point round-off errors from different computation orders. To turn them off, set the environment variable `TF_ENABLE_ONEDNN_OPTS=0`.\n",
      "2023-03-27 13:52:31.613463: W tensorflow/compiler/xla/stream_executor/platform/default/dso_loader.cc:64] Could not load dynamic library 'libnvinfer.so.7'; dlerror: libnvinfer.so.7: cannot open shared object file: No such file or directory; LD_LIBRARY_PATH: :/home/dell3/anaconda3/envs/workenv/lib/\n",
      "2023-03-27 13:52:31.613508: W tensorflow/compiler/xla/stream_executor/platform/default/dso_loader.cc:64] Could not load dynamic library 'libnvinfer_plugin.so.7'; dlerror: libnvinfer_plugin.so.7: cannot open shared object file: No such file or directory; LD_LIBRARY_PATH: :/home/dell3/anaconda3/envs/workenv/lib/\n",
      "2023-03-27 13:52:31.613511: W tensorflow/compiler/tf2tensorrt/utils/py_utils.cc:38] TF-TRT Warning: Cannot dlopen some TensorRT libraries. If you would like to use Nvidia GPU with TensorRT, please make sure the missing libraries mentioned above are installed properly.\n"
     ]
    }
   ],
   "source": [
    "#import libraries\n",
    "import os\n",
    "import random as rd\n",
    "import tensorflow as tf\n",
    "import matplotlib.pyplot as plt\n",
    "import pyBigWig as pbg\n",
    "import numpy as np\n",
    "import scipy as sp\n",
    "import matplotlib.pyplot as plt\n",
    "import scipy.stats\n",
    "import pandas as pd\n",
    "import matplotlib as mpl\n",
    "import keras.backend as K"
   ]
  },
  {
   "cell_type": "code",
   "execution_count": 12,
   "metadata": {},
   "outputs": [],
   "source": [
    "#one hot sequencing function\n",
    "def ohe(seq):\n",
    "    seq2=list()\n",
    "    mapping = {\"A\":[1, 0, 0, 0],\"C\": [0, 1, 0, 0],\"G\":[0, 0, 1, 0],\"T\":[0, 0, 0, 1]}\n",
    "    for i in seq:\n",
    "      seq2.append(mapping[i.upper()] if i.upper() in mapping.keys() else [0, 0, 0, 0]) \n",
    "    return np.array(seq2)"
   ]
  },
  {
   "cell_type": "code",
   "execution_count": 13,
   "metadata": {},
   "outputs": [],
   "source": [
    "#fasta to ohe numpy\n",
    "f=open('/home/florian/projet/W303/W303.fa','r')\n",
    "os.chdir('/home/florian/projet/W303')\n",
    "chr_name = str()\n",
    "seq=[]\n",
    "D={}\n",
    "for line in f:\n",
    "        line = line.rstrip()\n",
    "        if line[0] == '>':\n",
    "                if seq != []:\n",
    "                        D[chr_name]=ohe(seq)\n",
    "                chr_name = line[1:6].strip()\n",
    "                seq = []\n",
    "        else:\n",
    "                seq += line\n",
    "# D[\"chr16\"]=ohe(seq)\n",
    "np.savez_compressed('seq',**D)"
   ]
  },
  {
   "cell_type": "code",
   "execution_count": 8,
   "metadata": {},
   "outputs": [
    {
     "name": "stdout",
     "output_type": "stream",
     "text": [
      "252221\n",
      "844051\n",
      "341087\n",
      "1575129\n",
      "572496\n",
      "277781\n",
      "1092105\n",
      "564939\n",
      "430780\n",
      "762303\n",
      "683383\n",
      "1084257\n",
      "929095\n",
      "793416\n",
      "1108329\n",
      "986200\n"
     ]
    }
   ],
   "source": [
    "for i in [\"01\",\"02\",\"03\",\"04\",\"05\",\"06\",\"07\",\"08\",\"09\",\"10\",\"11\",\"12\",\"13\",\"14\",\"15\",\"16\"]:\n",
    "    print(len(np.load('/home/florian/projet/W303/seq.npz')['chr{}'.format(i)]))"
   ]
  },
  {
   "cell_type": "code",
   "execution_count": 3,
   "metadata": {},
   "outputs": [],
   "source": [
    "a=np.load('/home/florian/clipped99_MNase.npz')['chr16']"
   ]
  },
  {
   "cell_type": "code",
   "execution_count": 50,
   "metadata": {},
   "outputs": [
    {
     "data": {
      "text/plain": [
       "['chr01',\n",
       " 'chr02',\n",
       " 'chr03',\n",
       " 'chr04',\n",
       " 'chr05',\n",
       " 'chr06',\n",
       " 'chr07',\n",
       " 'chr08',\n",
       " 'chr09',\n",
       " 'chr10',\n",
       " 'chr11',\n",
       " 'chr12',\n",
       " 'chr13',\n",
       " 'chr14',\n",
       " 'chr15',\n",
       " 'chr16']"
      ]
     },
     "execution_count": 50,
     "metadata": {},
     "output_type": "execute_result"
    }
   ],
   "source": [
    "a.files"
   ]
  },
  {
   "cell_type": "code",
   "execution_count": 56,
   "metadata": {},
   "outputs": [],
   "source": [
    "dicX = {}\n",
    "with np.load('/home/florian/projet/W303/seq.npz') as f:\n",
    "    for i in [\"01\",\"02\",\"03\",\"04\",\"05\",\"06\",\"07\",\"08\",\"09\",\"10\",\"11\",\"12\",\"13\",\"14\",\"15\",\"16\"]:\n",
    "        dicX['X_{}'.format(i)]=f['chr{}'.format(i)]"
   ]
  },
  {
   "cell_type": "code",
   "execution_count": null,
   "metadata": {},
   "outputs": [],
   "source": []
  }
 ],
 "metadata": {
  "kernelspec": {
   "display_name": "workenv",
   "language": "python",
   "name": "python3"
  },
  "language_info": {
   "codemirror_mode": {
    "name": "ipython",
    "version": 3
   },
   "file_extension": ".py",
   "mimetype": "text/x-python",
   "name": "python",
   "nbconvert_exporter": "python",
   "pygments_lexer": "ipython3",
   "version": "3.10.9"
  },
  "orig_nbformat": 4,
  "vscode": {
   "interpreter": {
    "hash": "31630f766c371ce3d9f9481e86efb9338468fe692bd18c62142384c30b83e8be"
   }
  }
 },
 "nbformat": 4,
 "nbformat_minor": 2
}
